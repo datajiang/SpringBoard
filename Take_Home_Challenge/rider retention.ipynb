{
 "cells": [
  {
   "cell_type": "code",
   "execution_count": 1,
   "metadata": {
    "collapsed": true
   },
   "outputs": [],
   "source": [
    "import pandas as pd\n",
    "import numpy as np\n",
    "from matplotlib import pyplot as plt\n",
    "from pandas.tseries.offsets import DateOffset\n",
    "\n",
    "%matplotlib inline"
   ]
  },
  {
   "cell_type": "code",
   "execution_count": 2,
   "metadata": {
    "collapsed": true
   },
   "outputs": [],
   "source": [
    "df = pd.read_json('ultimate_data_challenge.json')"
   ]
  },
  {
   "cell_type": "code",
   "execution_count": 3,
   "metadata": {
    "scrolled": true
   },
   "outputs": [
    {
     "data": {
      "text/html": [
       "<div>\n",
       "<style scoped>\n",
       "    .dataframe tbody tr th:only-of-type {\n",
       "        vertical-align: middle;\n",
       "    }\n",
       "\n",
       "    .dataframe tbody tr th {\n",
       "        vertical-align: top;\n",
       "    }\n",
       "\n",
       "    .dataframe thead th {\n",
       "        text-align: right;\n",
       "    }\n",
       "</style>\n",
       "<table border=\"1\" class=\"dataframe\">\n",
       "  <thead>\n",
       "    <tr style=\"text-align: right;\">\n",
       "      <th></th>\n",
       "      <th>city</th>\n",
       "      <th>trips_in_first_30_days</th>\n",
       "      <th>signup_date</th>\n",
       "      <th>avg_rating_of_driver</th>\n",
       "      <th>avg_surge</th>\n",
       "      <th>last_trip_date</th>\n",
       "      <th>phone</th>\n",
       "      <th>surge_pct</th>\n",
       "      <th>ultimate_black_user</th>\n",
       "      <th>weekday_pct</th>\n",
       "      <th>avg_dist</th>\n",
       "      <th>avg_rating_by_driver</th>\n",
       "    </tr>\n",
       "  </thead>\n",
       "  <tbody>\n",
       "    <tr>\n",
       "      <th>0</th>\n",
       "      <td>King's Landing</td>\n",
       "      <td>4</td>\n",
       "      <td>2014-01-25</td>\n",
       "      <td>4.7</td>\n",
       "      <td>1.1</td>\n",
       "      <td>2014-06-17</td>\n",
       "      <td>iPhone</td>\n",
       "      <td>15.4</td>\n",
       "      <td>True</td>\n",
       "      <td>46.2</td>\n",
       "      <td>3.67</td>\n",
       "      <td>5.0</td>\n",
       "    </tr>\n",
       "    <tr>\n",
       "      <th>1</th>\n",
       "      <td>Astapor</td>\n",
       "      <td>0</td>\n",
       "      <td>2014-01-29</td>\n",
       "      <td>5.0</td>\n",
       "      <td>1.0</td>\n",
       "      <td>2014-05-05</td>\n",
       "      <td>Android</td>\n",
       "      <td>0.0</td>\n",
       "      <td>False</td>\n",
       "      <td>50.0</td>\n",
       "      <td>8.26</td>\n",
       "      <td>5.0</td>\n",
       "    </tr>\n",
       "    <tr>\n",
       "      <th>2</th>\n",
       "      <td>Astapor</td>\n",
       "      <td>3</td>\n",
       "      <td>2014-01-06</td>\n",
       "      <td>4.3</td>\n",
       "      <td>1.0</td>\n",
       "      <td>2014-01-07</td>\n",
       "      <td>iPhone</td>\n",
       "      <td>0.0</td>\n",
       "      <td>False</td>\n",
       "      <td>100.0</td>\n",
       "      <td>0.77</td>\n",
       "      <td>5.0</td>\n",
       "    </tr>\n",
       "  </tbody>\n",
       "</table>\n",
       "</div>"
      ],
      "text/plain": [
       "             city  trips_in_first_30_days signup_date  avg_rating_of_driver  \\\n",
       "0  King's Landing                       4  2014-01-25                   4.7   \n",
       "1         Astapor                       0  2014-01-29                   5.0   \n",
       "2         Astapor                       3  2014-01-06                   4.3   \n",
       "\n",
       "   avg_surge last_trip_date    phone  surge_pct  ultimate_black_user  \\\n",
       "0        1.1     2014-06-17   iPhone       15.4                 True   \n",
       "1        1.0     2014-05-05  Android        0.0                False   \n",
       "2        1.0     2014-01-07   iPhone        0.0                False   \n",
       "\n",
       "   weekday_pct  avg_dist  avg_rating_by_driver  \n",
       "0         46.2      3.67                   5.0  \n",
       "1         50.0      8.26                   5.0  \n",
       "2        100.0      0.77                   5.0  "
      ]
     },
     "execution_count": 3,
     "metadata": {},
     "output_type": "execute_result"
    }
   ],
   "source": [
    "df.head(3)"
   ]
  },
  {
   "cell_type": "markdown",
   "metadata": {},
   "source": [
    "# EDA"
   ]
  },
  {
   "cell_type": "code",
   "execution_count": 4,
   "metadata": {
    "scrolled": false
   },
   "outputs": [
    {
     "data": {
      "image/png": "[encoded data removed]",
      "text/plain": [
       "<Figure size 1440x360 with 2 Axes>"
      ]
     },
     "metadata": {},
     "output_type": "display_data"
    }
   ],
   "source": [
    "plt.figure(figsize=(20,5))\n",
    "plt.subplot(121)\n",
    "bins = df['trips_in_first_30_days'].nunique()\n",
    "plt.hist(df['trips_in_first_30_days'], bins=bins)\n",
    "plt.title('distribution of number of rides, linear scale')\n",
    "\n",
    "plt.subplot(122)\n",
    "plt.hist(df['trips_in_first_30_days'], bins=bins)\n",
    "plt.yscale('log')\n",
    "plt.title('distribution of number of rides, log scale')\n",
    "plt.show()"
   ]
  },
  {
   "cell_type": "markdown",
   "metadata": {},
   "source": [
    "- A vast majority of riders took one ride in the preceding month. \n",
    "- One can visually tell that the number of users who took one ride is greater that the sum of the rest."
   ]
  },
  {
   "cell_type": "code",
   "execution_count": 5,
   "metadata": {
    "scrolled": false
   },
   "outputs": [
    {
     "data": {
      "text/html": [
       "<div>\n",
       "<style scoped>\n",
       "    .dataframe tbody tr th:only-of-type {\n",
       "        vertical-align: middle;\n",
       "    }\n",
       "\n",
       "    .dataframe tbody tr th {\n",
       "        vertical-align: top;\n",
       "    }\n",
       "\n",
       "    .dataframe thead th {\n",
       "        text-align: right;\n",
       "    }\n",
       "</style>\n",
       "<table border=\"1\" class=\"dataframe\">\n",
       "  <thead>\n",
       "    <tr style=\"text-align: right;\">\n",
       "      <th></th>\n",
       "      <th>city</th>\n",
       "      <th>trips_in_first_30_days</th>\n",
       "      <th>signup_date</th>\n",
       "      <th>avg_rating_of_driver</th>\n",
       "      <th>avg_surge</th>\n",
       "      <th>last_trip_date</th>\n",
       "      <th>phone</th>\n",
       "      <th>surge_pct</th>\n",
       "      <th>ultimate_black_user</th>\n",
       "      <th>weekday_pct</th>\n",
       "      <th>avg_dist</th>\n",
       "      <th>avg_rating_by_driver</th>\n",
       "    </tr>\n",
       "  </thead>\n",
       "  <tbody>\n",
       "    <tr>\n",
       "      <th>18514</th>\n",
       "      <td>King's Landing</td>\n",
       "      <td>125</td>\n",
       "      <td>2014-01-02</td>\n",
       "      <td>5.0</td>\n",
       "      <td>1.12</td>\n",
       "      <td>2014-06-30</td>\n",
       "      <td>iPhone</td>\n",
       "      <td>14.4</td>\n",
       "      <td>True</td>\n",
       "      <td>72.0</td>\n",
       "      <td>2.02</td>\n",
       "      <td>4.8</td>\n",
       "    </tr>\n",
       "  </tbody>\n",
       "</table>\n",
       "</div>"
      ],
      "text/plain": [
       "                 city  trips_in_first_30_days signup_date  \\\n",
       "18514  King's Landing                     125  2014-01-02   \n",
       "\n",
       "       avg_rating_of_driver  avg_surge last_trip_date   phone  surge_pct  \\\n",
       "18514                   5.0       1.12     2014-06-30  iPhone       14.4   \n",
       "\n",
       "       ultimate_black_user  weekday_pct  avg_dist  avg_rating_by_driver  \n",
       "18514                 True         72.0      2.02                   4.8  "
      ]
     },
     "execution_count": 5,
     "metadata": {},
     "output_type": "execute_result"
    }
   ],
   "source": [
    "# examine the user who took the maximum rides\n",
    "df[df['trips_in_first_30_days']==125]"
   ]
  },
  {
   "cell_type": "markdown",
   "metadata": {},
   "source": [
    "# Feature Engineering"
   ]
  },
  {
   "cell_type": "code",
   "execution_count": 6,
   "metadata": {
    "collapsed": true
   },
   "outputs": [],
   "source": [
    "# change to datetime\n",
    "df['signup_date'] = pd.to_datetime(df['signup_date'])\n",
    "df['last_trip_date'] = pd.to_datetime(df['last_trip_date'])"
   ]
  },
  {
   "cell_type": "code",
   "execution_count": 7,
   "metadata": {
    "collapsed": true
   },
   "outputs": [],
   "source": [
    "# create a new column as the evaluation date for each user: excactly 6 months after their signup date.\n",
    "df['eval_date'] = df.signup_date + DateOffset(months=6)"
   ]
  },
  {
   "cell_type": "code",
   "execution_count": 8,
   "metadata": {
    "collapsed": true
   },
   "outputs": [],
   "source": [
    "# Create a new column for classification of if the user is retained or not. It is based on if the user's last trip \n",
    "# falls within a month before evaluation date.\n",
    "df['retained'] = (df.eval_date - DateOffset(days=30)) < df.last_trip_date"
   ]
  },
  {
   "cell_type": "code",
   "execution_count": 9,
   "metadata": {
    "scrolled": true
   },
   "outputs": [
    {
     "name": "stdout",
     "output_type": "stream",
     "text": [
      "Percentage of retained users: 23.39%\n"
     ]
    },
    {
     "data": {
      "text/plain": [
       "<matplotlib.axes._subplots.AxesSubplot at 0x1a15b043e80>"
      ]
     },
     "execution_count": 9,
     "metadata": {},
     "output_type": "execute_result"
    },
    {
     "data": {
      "image/png": "[encoded data removed]",
      "text/plain": [
       "<Figure size 432x288 with 1 Axes>"
      ]
     },
     "metadata": {},
     "output_type": "display_data"
    }
   ],
   "source": [
    "_ = df['retained'].sum() / len(df) * 100\n",
    "print(f'Percentage of retained users: {round(_, 2)}%')\n",
    "df['retained'].value_counts().plot(kind='bar', title='counts of retained')"
   ]
  },
  {
   "cell_type": "markdown",
   "metadata": {},
   "source": [
    "- The number of retainted users is about 1/3 of those not retained."
   ]
  },
  {
   "cell_type": "code",
   "execution_count": 10,
   "metadata": {
    "collapsed": true
   },
   "outputs": [],
   "source": [
    "# change to numeric\n",
    "df.retained = df.retained.astype('int')"
   ]
  },
  {
   "cell_type": "code",
   "execution_count": 11,
   "metadata": {
    "scrolled": false
   },
   "outputs": [
    {
     "data": {
      "text/html": [
       "<div>\n",
       "<style scoped>\n",
       "    .dataframe tbody tr th:only-of-type {\n",
       "        vertical-align: middle;\n",
       "    }\n",
       "\n",
       "    .dataframe tbody tr th {\n",
       "        vertical-align: top;\n",
       "    }\n",
       "\n",
       "    .dataframe thead th {\n",
       "        text-align: right;\n",
       "    }\n",
       "</style>\n",
       "<table border=\"1\" class=\"dataframe\">\n",
       "  <thead>\n",
       "    <tr style=\"text-align: right;\">\n",
       "      <th></th>\n",
       "      <th>city</th>\n",
       "      <th>trips_in_first_30_days</th>\n",
       "      <th>signup_date</th>\n",
       "      <th>avg_rating_of_driver</th>\n",
       "      <th>avg_surge</th>\n",
       "      <th>last_trip_date</th>\n",
       "      <th>phone</th>\n",
       "      <th>surge_pct</th>\n",
       "      <th>ultimate_black_user</th>\n",
       "      <th>weekday_pct</th>\n",
       "      <th>avg_dist</th>\n",
       "      <th>avg_rating_by_driver</th>\n",
       "      <th>eval_date</th>\n",
       "      <th>retained</th>\n",
       "    </tr>\n",
       "  </thead>\n",
       "  <tbody>\n",
       "    <tr>\n",
       "      <th>0</th>\n",
       "      <td>King's Landing</td>\n",
       "      <td>4</td>\n",
       "      <td>2014-01-25</td>\n",
       "      <td>4.7</td>\n",
       "      <td>1.1</td>\n",
       "      <td>2014-06-17</td>\n",
       "      <td>iPhone</td>\n",
       "      <td>15.4</td>\n",
       "      <td>True</td>\n",
       "      <td>46.2</td>\n",
       "      <td>3.67</td>\n",
       "      <td>5.0</td>\n",
       "      <td>2014-07-25</td>\n",
       "      <td>0</td>\n",
       "    </tr>\n",
       "    <tr>\n",
       "      <th>1</th>\n",
       "      <td>Astapor</td>\n",
       "      <td>0</td>\n",
       "      <td>2014-01-29</td>\n",
       "      <td>5.0</td>\n",
       "      <td>1.0</td>\n",
       "      <td>2014-05-05</td>\n",
       "      <td>Android</td>\n",
       "      <td>0.0</td>\n",
       "      <td>False</td>\n",
       "      <td>50.0</td>\n",
       "      <td>8.26</td>\n",
       "      <td>5.0</td>\n",
       "      <td>2014-07-29</td>\n",
       "      <td>0</td>\n",
       "    </tr>\n",
       "    <tr>\n",
       "      <th>2</th>\n",
       "      <td>Astapor</td>\n",
       "      <td>3</td>\n",
       "      <td>2014-01-06</td>\n",
       "      <td>4.3</td>\n",
       "      <td>1.0</td>\n",
       "      <td>2014-01-07</td>\n",
       "      <td>iPhone</td>\n",
       "      <td>0.0</td>\n",
       "      <td>False</td>\n",
       "      <td>100.0</td>\n",
       "      <td>0.77</td>\n",
       "      <td>5.0</td>\n",
       "      <td>2014-07-06</td>\n",
       "      <td>0</td>\n",
       "    </tr>\n",
       "  </tbody>\n",
       "</table>\n",
       "</div>"
      ],
      "text/plain": [
       "             city  trips_in_first_30_days signup_date  avg_rating_of_driver  \\\n",
       "0  King's Landing                       4  2014-01-25                   4.7   \n",
       "1         Astapor                       0  2014-01-29                   5.0   \n",
       "2         Astapor                       3  2014-01-06                   4.3   \n",
       "\n",
       "   avg_surge last_trip_date    phone  surge_pct  ultimate_black_user  \\\n",
       "0        1.1     2014-06-17   iPhone       15.4                 True   \n",
       "1        1.0     2014-05-05  Android        0.0                False   \n",
       "2        1.0     2014-01-07   iPhone        0.0                False   \n",
       "\n",
       "   weekday_pct  avg_dist  avg_rating_by_driver  eval_date  retained  \n",
       "0         46.2      3.67                   5.0 2014-07-25         0  \n",
       "1         50.0      8.26                   5.0 2014-07-29         0  \n",
       "2        100.0      0.77                   5.0 2014-07-06         0  "
      ]
     },
     "execution_count": 11,
     "metadata": {},
     "output_type": "execute_result"
    }
   ],
   "source": [
    "df.head(3)"
   ]
  },
  {
   "cell_type": "markdown",
   "metadata": {},
   "source": [
    "# Imputation"
   ]
  },
  {
   "cell_type": "code",
   "execution_count": 12,
   "metadata": {
    "scrolled": false
   },
   "outputs": [
    {
     "name": "stdout",
     "output_type": "stream",
     "text": [
      "<class 'pandas.core.frame.DataFrame'>\n",
      "RangeIndex: 50000 entries, 0 to 49999\n",
      "Data columns (total 14 columns):\n",
      " #   Column                  Non-Null Count  Dtype         \n",
      "---  ------                  --------------  -----         \n",
      " 0   city                    50000 non-null  object        \n",
      " 1   trips_in_first_30_days  50000 non-null  int64         \n",
      " 2   signup_date             50000 non-null  datetime64[ns]\n",
      " 3   avg_rating_of_driver    41878 non-null  float64       \n",
      " 4   avg_surge               50000 non-null  float64       \n",
      " 5   last_trip_date          50000 non-null  datetime64[ns]\n",
      " 6   phone                   49604 non-null  object        \n",
      " 7   surge_pct               50000 non-null  float64       \n",
      " 8   ultimate_black_user     50000 non-null  bool          \n",
      " 9   weekday_pct             50000 non-null  float64       \n",
      " 10  avg_dist                50000 non-null  float64       \n",
      " 11  avg_rating_by_driver    49799 non-null  float64       \n",
      " 12  eval_date               50000 non-null  datetime64[ns]\n",
      " 13  retained                50000 non-null  int32         \n",
      "dtypes: bool(1), datetime64[ns](3), float64(6), int32(1), int64(1), object(2)\n",
      "memory usage: 4.8+ MB\n"
     ]
    }
   ],
   "source": [
    "# check missing values by looking at Non-Null statistics\n",
    "df.info()"
   ]
  },
  {
   "cell_type": "markdown",
   "metadata": {},
   "source": [
    "- There are missing values in avg_rating_of_driver, phone, avg_rating_by_driver."
   ]
  },
  {
   "cell_type": "code",
   "execution_count": 13,
   "metadata": {
    "collapsed": true
   },
   "outputs": [],
   "source": [
    "cols = ['avg_rating_of_driver', 'avg_rating_by_driver']\n",
    "from sklearn.impute import SimpleImputer\n",
    "imp_mean = SimpleImputer(strategy='mean')\n",
    "df[cols] = imp_mean.fit_transform(df[cols])"
   ]
  },
  {
   "cell_type": "code",
   "execution_count": 14,
   "metadata": {},
   "outputs": [
    {
     "data": {
      "text/plain": [
       "array(['iPhone', 'Android', None], dtype=object)"
      ]
     },
     "execution_count": 14,
     "metadata": {},
     "output_type": "execute_result"
    }
   ],
   "source": [
    "df.phone.unique()"
   ]
  },
  {
   "cell_type": "code",
   "execution_count": 15,
   "metadata": {
    "collapsed": true
   },
   "outputs": [],
   "source": [
    "# the None are replaced in order for imputation\n",
    "df.replace(to_replace=[None], value=np.nan, inplace=True)\n",
    "\n",
    "imp_mf = SimpleImputer(strategy='most_frequent')\n",
    "df[['phone']] = imp_mf.fit_transform(df[['phone']])"
   ]
  },
  {
   "cell_type": "markdown",
   "metadata": {},
   "source": [
    "# Preprocessing"
   ]
  },
  {
   "cell_type": "code",
   "execution_count": 16,
   "metadata": {
    "collapsed": true,
    "scrolled": true
   },
   "outputs": [],
   "source": [
    "cols = ['city', 'phone', 'ultimate_black_user']\n",
    "df[cols] = df[cols].astype('category')"
   ]
  },
  {
   "cell_type": "code",
   "execution_count": 17,
   "metadata": {
    "collapsed": true
   },
   "outputs": [],
   "source": [
    "df = pd.get_dummies(df)"
   ]
  },
  {
   "cell_type": "code",
   "execution_count": 18,
   "metadata": {
    "collapsed": true
   },
   "outputs": [],
   "source": [
    "X = df.drop(['signup_date', 'last_trip_date', 'eval_date', 'trips_in_first_30_days', 'retained'], axis=1)\n",
    "y = df['retained']"
   ]
  },
  {
   "cell_type": "code",
   "execution_count": 19,
   "metadata": {
    "scrolled": false
   },
   "outputs": [
    {
     "data": {
      "text/html": [
       "<div>\n",
       "<style scoped>\n",
       "    .dataframe tbody tr th:only-of-type {\n",
       "        vertical-align: middle;\n",
       "    }\n",
       "\n",
       "    .dataframe tbody tr th {\n",
       "        vertical-align: top;\n",
       "    }\n",
       "\n",
       "    .dataframe thead th {\n",
       "        text-align: right;\n",
       "    }\n",
       "</style>\n",
       "<table border=\"1\" class=\"dataframe\">\n",
       "  <thead>\n",
       "    <tr style=\"text-align: right;\">\n",
       "      <th></th>\n",
       "      <th>avg_rating_of_driver</th>\n",
       "      <th>avg_surge</th>\n",
       "      <th>surge_pct</th>\n",
       "      <th>weekday_pct</th>\n",
       "      <th>avg_dist</th>\n",
       "      <th>avg_rating_by_driver</th>\n",
       "      <th>city_Astapor</th>\n",
       "      <th>city_King's Landing</th>\n",
       "      <th>city_Winterfell</th>\n",
       "      <th>phone_Android</th>\n",
       "      <th>phone_iPhone</th>\n",
       "      <th>ultimate_black_user_False</th>\n",
       "      <th>ultimate_black_user_True</th>\n",
       "    </tr>\n",
       "  </thead>\n",
       "  <tbody>\n",
       "    <tr>\n",
       "      <th>0</th>\n",
       "      <td>4.7</td>\n",
       "      <td>1.1</td>\n",
       "      <td>15.4</td>\n",
       "      <td>46.2</td>\n",
       "      <td>3.67</td>\n",
       "      <td>5.0</td>\n",
       "      <td>0</td>\n",
       "      <td>1</td>\n",
       "      <td>0</td>\n",
       "      <td>0</td>\n",
       "      <td>1</td>\n",
       "      <td>0</td>\n",
       "      <td>1</td>\n",
       "    </tr>\n",
       "    <tr>\n",
       "      <th>1</th>\n",
       "      <td>5.0</td>\n",
       "      <td>1.0</td>\n",
       "      <td>0.0</td>\n",
       "      <td>50.0</td>\n",
       "      <td>8.26</td>\n",
       "      <td>5.0</td>\n",
       "      <td>1</td>\n",
       "      <td>0</td>\n",
       "      <td>0</td>\n",
       "      <td>1</td>\n",
       "      <td>0</td>\n",
       "      <td>1</td>\n",
       "      <td>0</td>\n",
       "    </tr>\n",
       "    <tr>\n",
       "      <th>2</th>\n",
       "      <td>4.3</td>\n",
       "      <td>1.0</td>\n",
       "      <td>0.0</td>\n",
       "      <td>100.0</td>\n",
       "      <td>0.77</td>\n",
       "      <td>5.0</td>\n",
       "      <td>1</td>\n",
       "      <td>0</td>\n",
       "      <td>0</td>\n",
       "      <td>0</td>\n",
       "      <td>1</td>\n",
       "      <td>1</td>\n",
       "      <td>0</td>\n",
       "    </tr>\n",
       "  </tbody>\n",
       "</table>\n",
       "</div>"
      ],
      "text/plain": [
       "   avg_rating_of_driver  avg_surge  surge_pct  weekday_pct  avg_dist  \\\n",
       "0                   4.7        1.1       15.4         46.2      3.67   \n",
       "1                   5.0        1.0        0.0         50.0      8.26   \n",
       "2                   4.3        1.0        0.0        100.0      0.77   \n",
       "\n",
       "   avg_rating_by_driver  city_Astapor  city_King's Landing  city_Winterfell  \\\n",
       "0                   5.0             0                    1                0   \n",
       "1                   5.0             1                    0                0   \n",
       "2                   5.0             1                    0                0   \n",
       "\n",
       "   phone_Android  phone_iPhone  ultimate_black_user_False  \\\n",
       "0              0             1                          0   \n",
       "1              1             0                          1   \n",
       "2              0             1                          1   \n",
       "\n",
       "   ultimate_black_user_True  \n",
       "0                         1  \n",
       "1                         0  \n",
       "2                         0  "
      ]
     },
     "execution_count": 19,
     "metadata": {},
     "output_type": "execute_result"
    }
   ],
   "source": [
    "X.head(3)"
   ]
  },
  {
   "cell_type": "code",
   "execution_count": 20,
   "metadata": {
    "collapsed": true
   },
   "outputs": [],
   "source": [
    "from sklearn import preprocessing\n",
    "scaler = preprocessing.StandardScaler().fit(X)\n",
    "X_scaled = scaler.fit_transform(X)\n",
    "X_scaled = pd.DataFrame(X_scaled, columns=X.columns)"
   ]
  },
  {
   "cell_type": "code",
   "execution_count": 21,
   "metadata": {
    "scrolled": true
   },
   "outputs": [
    {
     "data": {
      "text/html": [
       "<div>\n",
       "<style scoped>\n",
       "    .dataframe tbody tr th:only-of-type {\n",
       "        vertical-align: middle;\n",
       "    }\n",
       "\n",
       "    .dataframe tbody tr th {\n",
       "        vertical-align: top;\n",
       "    }\n",
       "\n",
       "    .dataframe thead th {\n",
       "        text-align: right;\n",
       "    }\n",
       "</style>\n",
       "<table border=\"1\" class=\"dataframe\">\n",
       "  <thead>\n",
       "    <tr style=\"text-align: right;\">\n",
       "      <th></th>\n",
       "      <th>avg_rating_of_driver</th>\n",
       "      <th>avg_surge</th>\n",
       "      <th>surge_pct</th>\n",
       "      <th>weekday_pct</th>\n",
       "      <th>avg_dist</th>\n",
       "      <th>avg_rating_by_driver</th>\n",
       "      <th>city_Astapor</th>\n",
       "      <th>city_King's Landing</th>\n",
       "      <th>city_Winterfell</th>\n",
       "      <th>phone_Android</th>\n",
       "      <th>phone_iPhone</th>\n",
       "      <th>ultimate_black_user_False</th>\n",
       "      <th>ultimate_black_user_True</th>\n",
       "    </tr>\n",
       "  </thead>\n",
       "  <tbody>\n",
       "    <tr>\n",
       "      <th>0</th>\n",
       "      <td>0.174240</td>\n",
       "      <td>0.113506</td>\n",
       "      <td>0.328202</td>\n",
       "      <td>-0.397131</td>\n",
       "      <td>-0.372650</td>\n",
       "      <td>0.497684</td>\n",
       "      <td>-0.702890</td>\n",
       "      <td>1.983894</td>\n",
       "      <td>-0.935515</td>\n",
       "      <td>-0.655340</td>\n",
       "      <td>0.655340</td>\n",
       "      <td>-1.285285</td>\n",
       "      <td>1.285285</td>\n",
       "    </tr>\n",
       "    <tr>\n",
       "      <th>1</th>\n",
       "      <td>0.705241</td>\n",
       "      <td>-0.336268</td>\n",
       "      <td>-0.443394</td>\n",
       "      <td>-0.294653</td>\n",
       "      <td>0.431583</td>\n",
       "      <td>0.497684</td>\n",
       "      <td>1.422699</td>\n",
       "      <td>-0.504059</td>\n",
       "      <td>-0.935515</td>\n",
       "      <td>1.525926</td>\n",
       "      <td>-1.525926</td>\n",
       "      <td>0.778038</td>\n",
       "      <td>-0.778038</td>\n",
       "    </tr>\n",
       "    <tr>\n",
       "      <th>2</th>\n",
       "      <td>-0.533761</td>\n",
       "      <td>-0.336268</td>\n",
       "      <td>-0.443394</td>\n",
       "      <td>1.053741</td>\n",
       "      <td>-0.880771</td>\n",
       "      <td>0.497684</td>\n",
       "      <td>1.422699</td>\n",
       "      <td>-0.504059</td>\n",
       "      <td>-0.935515</td>\n",
       "      <td>-0.655340</td>\n",
       "      <td>0.655340</td>\n",
       "      <td>0.778038</td>\n",
       "      <td>-0.778038</td>\n",
       "    </tr>\n",
       "    <tr>\n",
       "      <th>3</th>\n",
       "      <td>-0.002760</td>\n",
       "      <td>0.293416</td>\n",
       "      <td>0.558679</td>\n",
       "      <td>0.514383</td>\n",
       "      <td>-0.602181</td>\n",
       "      <td>0.273342</td>\n",
       "      <td>-0.702890</td>\n",
       "      <td>1.983894</td>\n",
       "      <td>-0.935515</td>\n",
       "      <td>-0.655340</td>\n",
       "      <td>0.655340</td>\n",
       "      <td>-1.285285</td>\n",
       "      <td>1.285285</td>\n",
       "    </tr>\n",
       "    <tr>\n",
       "      <th>4</th>\n",
       "      <td>-0.356760</td>\n",
       "      <td>0.518303</td>\n",
       "      <td>0.147829</td>\n",
       "      <td>0.579106</td>\n",
       "      <td>-0.467266</td>\n",
       "      <td>0.273342</td>\n",
       "      <td>-0.702890</td>\n",
       "      <td>-0.504059</td>\n",
       "      <td>1.068930</td>\n",
       "      <td>1.525926</td>\n",
       "      <td>-1.525926</td>\n",
       "      <td>0.778038</td>\n",
       "      <td>-0.778038</td>\n",
       "    </tr>\n",
       "    <tr>\n",
       "      <th>...</th>\n",
       "      <td>...</td>\n",
       "      <td>...</td>\n",
       "      <td>...</td>\n",
       "      <td>...</td>\n",
       "      <td>...</td>\n",
       "      <td>...</td>\n",
       "      <td>...</td>\n",
       "      <td>...</td>\n",
       "      <td>...</td>\n",
       "      <td>...</td>\n",
       "      <td>...</td>\n",
       "      <td>...</td>\n",
       "      <td>...</td>\n",
       "    </tr>\n",
       "    <tr>\n",
       "      <th>49995</th>\n",
       "      <td>0.705241</td>\n",
       "      <td>-0.336268</td>\n",
       "      <td>-0.443394</td>\n",
       "      <td>1.053741</td>\n",
       "      <td>-0.029230</td>\n",
       "      <td>-1.297050</td>\n",
       "      <td>-0.702890</td>\n",
       "      <td>1.983894</td>\n",
       "      <td>-0.935515</td>\n",
       "      <td>-0.655340</td>\n",
       "      <td>0.655340</td>\n",
       "      <td>0.778038</td>\n",
       "      <td>-0.778038</td>\n",
       "    </tr>\n",
       "    <tr>\n",
       "      <th>49996</th>\n",
       "      <td>0.000000</td>\n",
       "      <td>-0.336268</td>\n",
       "      <td>-0.443394</td>\n",
       "      <td>-1.643048</td>\n",
       "      <td>-1.015686</td>\n",
       "      <td>-1.745733</td>\n",
       "      <td>1.422699</td>\n",
       "      <td>-0.504059</td>\n",
       "      <td>-0.935515</td>\n",
       "      <td>-0.655340</td>\n",
       "      <td>0.655340</td>\n",
       "      <td>0.778038</td>\n",
       "      <td>-0.778038</td>\n",
       "    </tr>\n",
       "    <tr>\n",
       "      <th>49997</th>\n",
       "      <td>0.705241</td>\n",
       "      <td>-0.336268</td>\n",
       "      <td>-0.443394</td>\n",
       "      <td>1.053741</td>\n",
       "      <td>-0.339360</td>\n",
       "      <td>0.497684</td>\n",
       "      <td>-0.702890</td>\n",
       "      <td>-0.504059</td>\n",
       "      <td>1.068930</td>\n",
       "      <td>1.525926</td>\n",
       "      <td>-1.525926</td>\n",
       "      <td>-1.285285</td>\n",
       "      <td>1.285285</td>\n",
       "    </tr>\n",
       "    <tr>\n",
       "      <th>49998</th>\n",
       "      <td>-2.834764</td>\n",
       "      <td>-0.336268</td>\n",
       "      <td>-0.443394</td>\n",
       "      <td>1.053741</td>\n",
       "      <td>-0.213205</td>\n",
       "      <td>-2.867442</td>\n",
       "      <td>1.422699</td>\n",
       "      <td>-0.504059</td>\n",
       "      <td>-0.935515</td>\n",
       "      <td>-0.655340</td>\n",
       "      <td>0.655340</td>\n",
       "      <td>0.778038</td>\n",
       "      <td>-0.778038</td>\n",
       "    </tr>\n",
       "    <tr>\n",
       "      <th>49999</th>\n",
       "      <td>0.000000</td>\n",
       "      <td>-0.336268</td>\n",
       "      <td>-0.443394</td>\n",
       "      <td>-1.643048</td>\n",
       "      <td>-0.404189</td>\n",
       "      <td>0.497684</td>\n",
       "      <td>1.422699</td>\n",
       "      <td>-0.504059</td>\n",
       "      <td>-0.935515</td>\n",
       "      <td>1.525926</td>\n",
       "      <td>-1.525926</td>\n",
       "      <td>0.778038</td>\n",
       "      <td>-0.778038</td>\n",
       "    </tr>\n",
       "  </tbody>\n",
       "</table>\n",
       "<p>50000 rows × 13 columns</p>\n",
       "</div>"
      ],
      "text/plain": [
       "       avg_rating_of_driver  avg_surge  surge_pct  weekday_pct  avg_dist  \\\n",
       "0                  0.174240   0.113506   0.328202    -0.397131 -0.372650   \n",
       "1                  0.705241  -0.336268  -0.443394    -0.294653  0.431583   \n",
       "2                 -0.533761  -0.336268  -0.443394     1.053741 -0.880771   \n",
       "3                 -0.002760   0.293416   0.558679     0.514383 -0.602181   \n",
       "4                 -0.356760   0.518303   0.147829     0.579106 -0.467266   \n",
       "...                     ...        ...        ...          ...       ...   \n",
       "49995              0.705241  -0.336268  -0.443394     1.053741 -0.029230   \n",
       "49996              0.000000  -0.336268  -0.443394    -1.643048 -1.015686   \n",
       "49997              0.705241  -0.336268  -0.443394     1.053741 -0.339360   \n",
       "49998             -2.834764  -0.336268  -0.443394     1.053741 -0.213205   \n",
       "49999              0.000000  -0.336268  -0.443394    -1.643048 -0.404189   \n",
       "\n",
       "       avg_rating_by_driver  city_Astapor  city_King's Landing  \\\n",
       "0                  0.497684     -0.702890             1.983894   \n",
       "1                  0.497684      1.422699            -0.504059   \n",
       "2                  0.497684      1.422699            -0.504059   \n",
       "3                  0.273342     -0.702890             1.983894   \n",
       "4                  0.273342     -0.702890            -0.504059   \n",
       "...                     ...           ...                  ...   \n",
       "49995             -1.297050     -0.702890             1.983894   \n",
       "49996             -1.745733      1.422699            -0.504059   \n",
       "49997              0.497684     -0.702890            -0.504059   \n",
       "49998             -2.867442      1.422699            -0.504059   \n",
       "49999              0.497684      1.422699            -0.504059   \n",
       "\n",
       "       city_Winterfell  phone_Android  phone_iPhone  \\\n",
       "0            -0.935515      -0.655340      0.655340   \n",
       "1            -0.935515       1.525926     -1.525926   \n",
       "2            -0.935515      -0.655340      0.655340   \n",
       "3            -0.935515      -0.655340      0.655340   \n",
       "4             1.068930       1.525926     -1.525926   \n",
       "...                ...            ...           ...   \n",
       "49995        -0.935515      -0.655340      0.655340   \n",
       "49996        -0.935515      -0.655340      0.655340   \n",
       "49997         1.068930       1.525926     -1.525926   \n",
       "49998        -0.935515      -0.655340      0.655340   \n",
       "49999        -0.935515       1.525926     -1.525926   \n",
       "\n",
       "       ultimate_black_user_False  ultimate_black_user_True  \n",
       "0                      -1.285285                  1.285285  \n",
       "1                       0.778038                 -0.778038  \n",
       "2                       0.778038                 -0.778038  \n",
       "3                      -1.285285                  1.285285  \n",
       "4                       0.778038                 -0.778038  \n",
       "...                          ...                       ...  \n",
       "49995                   0.778038                 -0.778038  \n",
       "49996                   0.778038                 -0.778038  \n",
       "49997                  -1.285285                  1.285285  \n",
       "49998                   0.778038                 -0.778038  \n",
       "49999                   0.778038                 -0.778038  \n",
       "\n",
       "[50000 rows x 13 columns]"
      ]
     },
     "execution_count": 21,
     "metadata": {},
     "output_type": "execute_result"
    }
   ],
   "source": [
    "X_scaled"
   ]
  },
  {
   "cell_type": "code",
   "execution_count": 22,
   "metadata": {
    "collapsed": true
   },
   "outputs": [],
   "source": [
    "from sklearn.linear_model import LogisticRegression\n",
    "from sklearn.model_selection import train_test_split\n",
    "from sklearn.metrics import classification_report"
   ]
  },
  {
   "cell_type": "code",
   "execution_count": 50,
   "metadata": {
    "scrolled": true
   },
   "outputs": [
    {
     "name": "stdout",
     "output_type": "stream",
     "text": [
      "The mean accuracy: 0.76932\n",
      "              precision    recall  f1-score   support\n",
      "\n",
      "           0       0.78      0.97      0.87     38306\n",
      "           1       0.53      0.12      0.19     11694\n",
      "\n",
      "    accuracy                           0.77     50000\n",
      "   macro avg       0.66      0.54      0.53     50000\n",
      "weighted avg       0.72      0.77      0.71     50000\n",
      "\n"
     ]
    }
   ],
   "source": [
    "# class weight is not considered\n",
    "clf = LogisticRegression(penalty='l2', max_iter=300, random_state=42).fit(X, y)\n",
    "print('The mean accuracy:', clf.score(X, y))\n",
    "y_pred = clf.predict(X)\n",
    "print(classification_report(y, y_pred))"
   ]
  },
  {
   "cell_type": "code",
   "execution_count": 52,
   "metadata": {
    "scrolled": false
   },
   "outputs": [
    {
     "name": "stdout",
     "output_type": "stream",
     "text": [
      "f2 score is: 0.14\n"
     ]
    }
   ],
   "source": [
    "# f-beta score to \n",
    "scores = classification_report(y, y_pred, output_dict=True)\n",
    "precision = scores['1']['precision']\n",
    "recall = scores['1']['recall']\n",
    "\n",
    "def f_score(beta=2):\n",
    "    f_beta = (1 + beta**2) * precision * recall / (beta**2 * precision + recall)\n",
    "    return f_beta\n",
    "\n",
    "print(f'f2 score is: {np.round(f_score(2), 2)}')"
   ]
  },
  {
   "cell_type": "code",
   "execution_count": 53,
   "metadata": {
    "scrolled": false
   },
   "outputs": [
    {
     "name": "stdout",
     "output_type": "stream",
     "text": [
      "The mean accuracy: 0.63626\n",
      "              precision    recall  f1-score   support\n",
      "\n",
      "           0       0.86      0.62      0.72     38306\n",
      "           1       0.36      0.68      0.47     11694\n",
      "\n",
      "    accuracy                           0.64     50000\n",
      "   macro avg       0.61      0.65      0.60     50000\n",
      "weighted avg       0.75      0.64      0.66     50000\n",
      "\n"
     ]
    }
   ],
   "source": [
    "clf = LogisticRegression(max_iter=300, class_weight='balanced', random_state=42).fit(X, y)\n",
    "print('The mean accuracy:', clf.score(X, y))\n",
    "y_pred = clf.predict(X)\n",
    "print(classification_report(y, y_pred))"
   ]
  },
  {
   "cell_type": "markdown",
   "metadata": {},
   "source": [
    "- When class weight is considered, recall and f1-score improved retained user class"
   ]
  },
  {
   "cell_type": "code",
   "execution_count": 56,
   "metadata": {
    "scrolled": false
   },
   "outputs": [
    {
     "name": "stdout",
     "output_type": "stream",
     "text": [
      "f2 score is: 0.57\n",
      "f3 score is: 0.62\n",
      "f4 score is: 0.65\n"
     ]
    }
   ],
   "source": [
    "# f-beta score to \n",
    "scores = classification_report(y, y_pred, output_dict=True)\n",
    "precision = scores['1']['precision']\n",
    "recall = scores['1']['recall']\n",
    "\n",
    "print(f'f2 score is: {np.round(f_score(2), 2)}')\n",
    "print(f'f3 score is: {np.round(f_score(3), 2)}')\n",
    "print(f'f4 score is: {np.round(f_score(4), 2)}')"
   ]
  },
  {
   "cell_type": "code",
   "execution_count": null,
   "metadata": {
    "collapsed": true
   },
   "outputs": [],
   "source": []
  },
  {
   "cell_type": "code",
   "execution_count": 58,
   "metadata": {},
   "outputs": [
    {
     "data": {
      "text/plain": [
       "array([[23864, 14442],\n",
       "       [ 3745,  7949]], dtype=int64)"
      ]
     },
     "execution_count": 58,
     "metadata": {},
     "output_type": "execute_result"
    }
   ],
   "source": [
    "from sklearn.metrics import confusion_matrix\n",
    "confusion_matrix(y, y_pred)"
   ]
  },
  {
   "cell_type": "code",
   "execution_count": 59,
   "metadata": {},
   "outputs": [
    {
     "data": {
      "image/png": "[encoded data removed]",
      "text/plain": [
       "<Figure size 432x288 with 2 Axes>"
      ]
     },
     "metadata": {},
     "output_type": "display_data"
    }
   ],
   "source": [
    "from sklearn.metrics import plot_confusion_matrix\n",
    "plot_confusion_matrix(clf, X, y)\n",
    "plt.show()"
   ]
  },
  {
   "cell_type": "code",
   "execution_count": 72,
   "metadata": {
    "scrolled": false
   },
   "outputs": [
    {
     "name": "stdout",
     "output_type": "stream",
     "text": [
      "The mean accuracy: 0.63618\n",
      "              precision    recall  f1-score   support\n",
      "\n",
      "           0       0.86      0.62      0.72     38306\n",
      "           1       0.35      0.68      0.47     11694\n",
      "\n",
      "    accuracy                           0.64     50000\n",
      "   macro avg       0.61      0.65      0.60     50000\n",
      "weighted avg       0.75      0.64      0.66     50000\n",
      "\n"
     ]
    }
   ],
   "source": [
    "l1_ratio = 0.1\n",
    "clf = LogisticRegression(penalty='elasticnet', l1_ratio=l1_ratio, max_iter=1000, class_weight='balanced', solver='saga', random_state=42).fit(X, y)\n",
    "print('The mean accuracy:', clf.score(X, y))\n",
    "y_pred = clf.predict(X)\n",
    "print(classification_report(y, y_pred))"
   ]
  },
  {
   "cell_type": "markdown",
   "metadata": {},
   "source": [
    "- The overall accuracy is 63%. It is hard to tell how the model bahaves with respect to each class\n",
    "- This table clearly tells precision of non-retained user class 0 is great(86%). However for retained user class, the precision is very low (36%).\n",
    "- Obviously, the model did a pour job for retained users class. This is of concern because we want to find ways to improve retain rate. Only a good model can help find the features that are important and the stakeholder can work on that."
   ]
  },
  {
   "cell_type": "code",
   "execution_count": 37,
   "metadata": {
    "scrolled": false
   },
   "outputs": [
    {
     "name": "stdout",
     "output_type": "stream",
     "text": [
      "No Skill: ROC AUC=0.500\n",
      "Logistic: ROC AUC=0.708\n"
     ]
    },
    {
     "data": {
      "image/png": "[encoded data removed]",
      "text/plain": [
       "<Figure size 432x288 with 1 Axes>"
      ]
     },
     "metadata": {},
     "output_type": "display_data"
    }
   ],
   "source": [
    "# roc curve and auc\n",
    "from sklearn.model_selection import train_test_split\n",
    "from sklearn.metrics import roc_curve\n",
    "from sklearn.metrics import roc_auc_score\n",
    "\n",
    "# trainX, testX, trainy, testy = train_test_split(X, y, test_size=0.5, random_state=2)\n",
    "\n",
    "ns_probs = [0 for _ in range(len(y))]\n",
    "# fit a model\n",
    "model = LogisticRegression(max_iter=300, class_weight='balanced', random_state=42, solver='lbfgs')\n",
    "model.fit(X, y)\n",
    "# predict probabilities\n",
    "lr_probs = model.predict_proba(X)\n",
    "# keep probabilities for the positive outcome only\n",
    "lr_probs = lr_probs[:, 1]\n",
    "# calculate scores\n",
    "ns_auc = roc_auc_score(y, ns_probs)\n",
    "lr_auc = roc_auc_score(y, lr_probs)\n",
    "# summarize scores\n",
    "print('No Skill: ROC AUC=%.3f' % (ns_auc))\n",
    "print('Logistic: ROC AUC=%.3f' % (lr_auc))\n",
    "# calculate roc curves\n",
    "ns_fpr, ns_tpr, _ = roc_curve(y, ns_probs)\n",
    "lr_fpr, lr_tpr, _ = roc_curve(y, lr_probs)\n",
    "# plot the roc curve for the model\n",
    "plt.plot(ns_fpr, ns_tpr, linestyle='--')\n",
    "plt.plot(lr_fpr, lr_tpr, marker='.')\n",
    "# axis labels\n",
    "plt.xlabel('False Positive Rate')\n",
    "plt.ylabel('True Positive Rate')\n",
    "# show the legend\n",
    "plt.legend()\n",
    "# show the plot\n",
    "plt.show()"
   ]
  },
  {
   "cell_type": "code",
   "execution_count": null,
   "metadata": {
    "collapsed": true
   },
   "outputs": [],
   "source": [
    "- ROC curve indicates the model looks well."
   ]
  },
  {
   "cell_type": "code",
   "execution_count": 59,
   "metadata": {
    "scrolled": false
   },
   "outputs": [
    {
     "name": "stdout",
     "output_type": "stream",
     "text": [
      "Logistic: f1=0.466 auc=0.401\n"
     ]
    },
    {
     "data": {
      "image/png": "[encoded data removed]",
      "text/plain": [
       "<Figure size 432x288 with 1 Axes>"
      ]
     },
     "metadata": {},
     "output_type": "display_data"
    }
   ],
   "source": [
    "from sklearn.metrics import auc\n",
    "from sklearn.metrics import precision_recall_curve\n",
    "from sklearn.metrics import f1_score\n",
    "\n",
    "model = LogisticRegression(max_iter=300, class_weight='balanced', random_state=42, solver='lbfgs')\n",
    "model.fit(X, y)\n",
    "\n",
    "# predict probabilities\n",
    "lr_probs = model.predict_proba(X)\n",
    "\n",
    "# keep probabilities for the positive outcome only\n",
    "lr_probs = lr_probs[:, 1]\n",
    "\n",
    "# predict class values\n",
    "yhat = model.predict(X)\n",
    "lr_precision, lr_recall, _ = precision_recall_curve(y, lr_probs)\n",
    "lr_f1, lr_auc = f1_score(y, yhat), auc(lr_recall, lr_precision)\n",
    "\n",
    "# summarize scores\n",
    "print('Logistic: f1=%.3f auc=%.3f' % (lr_f1, lr_auc))\n",
    "\n",
    "# plot the precision-recall curves\n",
    "no_skill = len(y[y==1]) / len(y)\n",
    "plt.plot([0, 1], [no_skill, no_skill], linestyle='--')\n",
    "plt.plot(lr_recall, lr_precision, marker='.')\n",
    "plt.xlabel('Recall')\n",
    "plt.ylabel('Precision')\n",
    "plt.show()"
   ]
  },
  {
   "cell_type": "markdown",
   "metadata": {},
   "source": [
    "- There is significant imbalance in the class. It is better to use PR curve, which shows the performance of the model is  modestly good. "
   ]
  },
  {
   "cell_type": "code",
   "execution_count": 40,
   "metadata": {},
   "outputs": [
    {
     "data": {
      "text/plain": [
       "<matplotlib.axes._subplots.AxesSubplot at 0x1b2e3b630f0>"
      ]
     },
     "execution_count": 40,
     "metadata": {},
     "output_type": "execute_result"
    },
    {
     "data": {
      "image/png": "[encoded data removed]",
      "text/plain": [
       "<Figure size 432x288 with 1 Axes>"
      ]
     },
     "metadata": {},
     "output_type": "display_data"
    }
   ],
   "source": [
    "feature_importance = pd.DataFrame(data=clf.coef_.T, index=X.columns, columns = ['importance'])\n",
    "feature_importance = feature_importance.sort_values('importance')\n",
    "feature_importance.plot(kind='barh')"
   ]
  },
  {
   "cell_type": "code",
   "execution_count": 43,
   "metadata": {
    "scrolled": true
   },
   "outputs": [
    {
     "data": {
      "text/plain": [
       "<matplotlib.axes._subplots.AxesSubplot at 0x1b2e8527160>"
      ]
     },
     "execution_count": 43,
     "metadata": {},
     "output_type": "execute_result"
    },
    {
     "data": {
      "image/png": "[encoded data removed]",
      "text/plain": [
       "<Figure size 432x288 with 1 Axes>"
      ]
     },
     "metadata": {},
     "output_type": "display_data"
    }
   ],
   "source": [
    "feature_importance = feature_importance.abs()\n",
    "feature_importance = feature_importance.sort_values('importance')\n",
    "feature_importance.plot(kind='barh')"
   ]
  },
  {
   "cell_type": "code",
   "execution_count": 66,
   "metadata": {
    "scrolled": false
   },
   "outputs": [
    {
     "data": {
      "text/html": [
       "<div>\n",
       "<style scoped>\n",
       "    .dataframe tbody tr th:only-of-type {\n",
       "        vertical-align: middle;\n",
       "    }\n",
       "\n",
       "    .dataframe tbody tr th {\n",
       "        vertical-align: top;\n",
       "    }\n",
       "\n",
       "    .dataframe thead th {\n",
       "        text-align: right;\n",
       "    }\n",
       "</style>\n",
       "<table border=\"1\" class=\"dataframe\">\n",
       "  <thead>\n",
       "    <tr style=\"text-align: right;\">\n",
       "      <th></th>\n",
       "      <th>importance</th>\n",
       "    </tr>\n",
       "  </thead>\n",
       "  <tbody>\n",
       "    <tr>\n",
       "      <th>city_King's Landing</th>\n",
       "      <td>0.837407</td>\n",
       "    </tr>\n",
       "    <tr>\n",
       "      <th>phone_iPhone</th>\n",
       "      <td>0.750807</td>\n",
       "    </tr>\n",
       "    <tr>\n",
       "      <th>ultimate_black_user_True</th>\n",
       "      <td>0.642106</td>\n",
       "    </tr>\n",
       "    <tr>\n",
       "      <th>city_Astapor</th>\n",
       "      <td>0.441306</td>\n",
       "    </tr>\n",
       "    <tr>\n",
       "      <th>phone_Android</th>\n",
       "      <td>0.231654</td>\n",
       "    </tr>\n",
       "    <tr>\n",
       "      <th>avg_rating_by_driver</th>\n",
       "      <td>0.165229</td>\n",
       "    </tr>\n",
       "    <tr>\n",
       "      <th>avg_surge</th>\n",
       "      <td>0.146751</td>\n",
       "    </tr>\n",
       "    <tr>\n",
       "      <th>city_Winterfell</th>\n",
       "      <td>0.123052</td>\n",
       "    </tr>\n",
       "    <tr>\n",
       "      <th>ultimate_black_user_False</th>\n",
       "      <td>0.122954</td>\n",
       "    </tr>\n",
       "    <tr>\n",
       "      <th>avg_dist</th>\n",
       "      <td>0.055854</td>\n",
       "    </tr>\n",
       "    <tr>\n",
       "      <th>avg_rating_of_driver</th>\n",
       "      <td>0.043385</td>\n",
       "    </tr>\n",
       "    <tr>\n",
       "      <th>surge_pct</th>\n",
       "      <td>0.004068</td>\n",
       "    </tr>\n",
       "    <tr>\n",
       "      <th>weekday_pct</th>\n",
       "      <td>0.000669</td>\n",
       "    </tr>\n",
       "  </tbody>\n",
       "</table>\n",
       "</div>"
      ],
      "text/plain": [
       "                           importance\n",
       "city_King's Landing          0.837407\n",
       "phone_iPhone                 0.750807\n",
       "ultimate_black_user_True     0.642106\n",
       "city_Astapor                 0.441306\n",
       "phone_Android                0.231654\n",
       "avg_rating_by_driver         0.165229\n",
       "avg_surge                    0.146751\n",
       "city_Winterfell              0.123052\n",
       "ultimate_black_user_False    0.122954\n",
       "avg_dist                     0.055854\n",
       "avg_rating_of_driver         0.043385\n",
       "surge_pct                    0.004068\n",
       "weekday_pct                  0.000669"
      ]
     },
     "execution_count": 66,
     "metadata": {},
     "output_type": "execute_result"
    }
   ],
   "source": [
    "# list importance values in descending order\n",
    "feature_importance = feature_importance.sort_values('importance', ascending=False)\n",
    "feature_importance"
   ]
  },
  {
   "cell_type": "markdown",
   "metadata": {},
   "source": [
    "## Insight"
   ]
  },
  {
   "cell_type": "markdown",
   "metadata": {},
   "source": [
    "- User's sign-up city of King's Landing is at least about 2 times higher in importance than other cities such as Astapor, Winterfell, etc.\n",
    "- Feature importance of iPhone is 3 times higher than that of Android phone.\n",
    "- Ultimate black user is about 5 times higher than that of not black user.\n",
    "- Average rating by driver is 4 times higher than that of average rating of driver.\n",
    "- Surge percent and weekday percent have minimal effect on retained user percentage.\n",
    "\n",
    "- To help improve retaining rate, the company may want to consider the following measures:\n",
    "    - find practical ways to retain more users in city of Astapor.\n",
    "    - Encourage using iPhone in stead of Android phone.\n",
    "    - Turn non balck users to black users."
   ]
  }
 ],
 "metadata": {
  "kernelspec": {
   "display_name": "Python 3",
   "language": "python",
   "name": "python3"
  },
  "language_info": {
   "codemirror_mode": {
    "name": "ipython",
    "version": 3
   },
   "file_extension": ".py",
   "mimetype": "text/x-python",
   "name": "python",
   "nbconvert_exporter": "python",
   "pygments_lexer": "ipython3",
   "version": "3.6.3"
  }
 },
 "nbformat": 4,
 "nbformat_minor": 2
}
