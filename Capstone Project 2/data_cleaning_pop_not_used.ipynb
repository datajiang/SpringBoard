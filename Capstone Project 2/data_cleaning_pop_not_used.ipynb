{
 "cells": [
  {
   "cell_type": "code",
   "execution_count": null,
   "metadata": {
    "collapsed": true
   },
   "outputs": [],
   "source": []
  },
  {
   "cell_type": "code",
   "execution_count": null,
   "metadata": {
    "collapsed": true
   },
   "outputs": [],
   "source": [
    "pop = pop.rename(columns={'Pop1': 'Pop_all_ages'})\n",
    "\n",
    "pop\n",
    "\n",
    "pop.columns[7:]\n",
    "\n",
    "for col in pop.columns[6:]:\n",
    "    pop[col] = pop[col].fillna(0)\n",
    "pop['Pop_all'] = 0\n",
    "for col in pop.columns[7:33]:\n",
    "    pop['Pop_all'] += pop[col]\n",
    "\n",
    "pop.columns[7:33]\n",
    "\n",
    "pop = pd.merge(pop, country_codes, how='left', on=['Country'])\n",
    "pop\n",
    "\n",
    "sorted(pop['Country/Region'].unique())\n",
    "\n",
    "pop[pop['Country/Region']=='China']\n",
    "\n",
    "- Chines has a population of about 64e6 in 2000. This dataset is questionable. Turns out this is only for urban area as indicated by SubDiv A51.\n",
    "\n",
    "'''\n",
    "Pop1\tPopulation at all ages\n",
    "Pop2\tPopulation at age 0 year\n",
    "Pop3\tPopulation at age1 year\n",
    "Pop4\tPopulation at age 2 years\n",
    "Pop5\tPopulation at age 3 years\n",
    "Pop6\tPopulation at age 4 years\n",
    "Pop7\tPopulation at age 5-9 years\n",
    "Pop8\tPopulation at age 10-14 years\n",
    "Pop9\tPopulation at age 15-19 years\n",
    "Pop10\tPopulation at age 20-24 years\n",
    "Pop11\tPopulation at age 25-29 years\n",
    "Pop12\tPopulation at age 30-34 years\n",
    "Pop13\tPopulation at age 35-39 years\n",
    "Pop14\tPopulation at age 40-44 years\n",
    "Pop15\tPopulation at age 45-49 years\n",
    "Pop16\tPopulation at age 50-54 years\n",
    "Pop17\tPopulation at age 55-59 years\n",
    "Pop18\tPopulation at age 60-64 years\n",
    "Pop19\tPopulation at age 65-69 years\n",
    "Pop20\tPopulation at age 70-74 years\n",
    "Pop21\tPopulation at age 75-79 years\n",
    "Pop22\tPopulation at age 80-84 years\n",
    "Pop23\tPopulation at age 85-89 years\n",
    "Pop24\tPopulation at age 90-94 years\n",
    "Pop25\tPopulation at age 95 years and over \n",
    "Pop26\tPopulation at age unspecified\n",
    "Lb\tLive births\n",
    "'''"
   ]
  },
  {
   "cell_type": "code",
   "execution_count": null,
   "metadata": {
    "collapsed": true
   },
   "outputs": [],
   "source": []
  },
  {
   "cell_type": "code",
   "execution_count": null,
   "metadata": {
    "collapsed": true
   },
   "outputs": [],
   "source": []
  },
  {
   "cell_type": "code",
   "execution_count": null,
   "metadata": {
    "collapsed": true
   },
   "outputs": [],
   "source": []
  },
  {
   "cell_type": "code",
   "execution_count": null,
   "metadata": {
    "collapsed": true
   },
   "outputs": [],
   "source": []
  },
  {
   "cell_type": "code",
   "execution_count": null,
   "metadata": {
    "collapsed": true
   },
   "outputs": [],
   "source": []
  },
  {
   "cell_type": "code",
   "execution_count": null,
   "metadata": {
    "collapsed": true
   },
   "outputs": [],
   "source": []
  }
 ],
 "metadata": {
  "kernelspec": {
   "display_name": "Python 3",
   "language": "python",
   "name": "python3"
  },
  "language_info": {
   "codemirror_mode": {
    "name": "ipython",
    "version": 3
   },
   "file_extension": ".py",
   "mimetype": "text/x-python",
   "name": "python",
   "nbconvert_exporter": "python",
   "pygments_lexer": "ipython3",
   "version": "3.6.3"
  }
 },
 "nbformat": 4,
 "nbformat_minor": 2
}
