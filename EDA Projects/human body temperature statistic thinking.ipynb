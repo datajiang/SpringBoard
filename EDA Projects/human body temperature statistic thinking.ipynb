{
 "cells": [
  {
   "cell_type": "markdown",
   "metadata": {},
   "source": [
    "# What is the True Normal Human Body Temperature? \n",
    "\n",
    "#### Background\n",
    "\n",
    "The mean normal body temperature was held to be 37$^{\\circ}$C or 98.6$^{\\circ}$F for more than 120 years since it was first conceptualized and reported by Carl Wunderlich in a famous 1868 book. But, is this value statistically correct?"
   ]
  },
  {
   "cell_type": "code",
   "execution_count": 58,
   "metadata": {
    "collapsed": true
   },
   "outputs": [],
   "source": [
    "import pandas as pd\n",
    "import matplotlib.pyplot as plt\n",
    "import numpy as np\n",
    "from scipy import stats\n",
    "import seaborn as sns\n",
    "\n",
    "df = pd.read_csv('data/human_body_temperature.csv')"
   ]
  },
  {
   "cell_type": "code",
   "execution_count": 2,
   "metadata": {},
   "outputs": [
    {
     "data": {
      "text/html": [
       "<div>\n",
       "<style>\n",
       "    .dataframe thead tr:only-child th {\n",
       "        text-align: right;\n",
       "    }\n",
       "\n",
       "    .dataframe thead th {\n",
       "        text-align: left;\n",
       "    }\n",
       "\n",
       "    .dataframe tbody tr th {\n",
       "        vertical-align: top;\n",
       "    }\n",
       "</style>\n",
       "<table border=\"1\" class=\"dataframe\">\n",
       "  <thead>\n",
       "    <tr style=\"text-align: right;\">\n",
       "      <th></th>\n",
       "      <th>temperature</th>\n",
       "      <th>gender</th>\n",
       "      <th>heart_rate</th>\n",
       "    </tr>\n",
       "  </thead>\n",
       "  <tbody>\n",
       "    <tr>\n",
       "      <th>0</th>\n",
       "      <td>99.3</td>\n",
       "      <td>F</td>\n",
       "      <td>68.0</td>\n",
       "    </tr>\n",
       "    <tr>\n",
       "      <th>1</th>\n",
       "      <td>98.4</td>\n",
       "      <td>F</td>\n",
       "      <td>81.0</td>\n",
       "    </tr>\n",
       "    <tr>\n",
       "      <th>2</th>\n",
       "      <td>97.8</td>\n",
       "      <td>M</td>\n",
       "      <td>73.0</td>\n",
       "    </tr>\n",
       "  </tbody>\n",
       "</table>\n",
       "</div>"
      ],
      "text/plain": [
       "   temperature gender  heart_rate\n",
       "0         99.3      F        68.0\n",
       "1         98.4      F        81.0\n",
       "2         97.8      M        73.0"
      ]
     },
     "execution_count": 2,
     "metadata": {},
     "output_type": "execute_result"
    }
   ],
   "source": [
    "# Your work here.\n",
    "df.head(3)"
   ]
  },
  {
   "cell_type": "code",
   "execution_count": 3,
   "metadata": {},
   "outputs": [
    {
     "name": "stdout",
     "output_type": "stream",
     "text": [
      "<class 'pandas.core.frame.DataFrame'>\n",
      "RangeIndex: 130 entries, 0 to 129\n",
      "Data columns (total 3 columns):\n",
      "temperature    130 non-null float64\n",
      "gender         130 non-null object\n",
      "heart_rate     130 non-null float64\n",
      "dtypes: float64(2), object(1)\n",
      "memory usage: 3.1+ KB\n"
     ]
    }
   ],
   "source": [
    "df.info()"
   ]
  },
  {
   "cell_type": "markdown",
   "metadata": {},
   "source": [
    "## 1. Is the distribution of body temperatures normal? "
   ]
  },
  {
   "cell_type": "markdown",
   "metadata": {},
   "source": [
    "The best way is to visually compare the sample distribution with normal distribution by plotting the both."
   ]
  },
  {
   "cell_type": "code",
   "execution_count": 4,
   "metadata": {
    "collapsed": true
   },
   "outputs": [],
   "source": [
    "def ecdf(data):\n",
    "    n = len(data)\n",
    "    x = np.sort(data)\n",
    "    y = np.arange(1, len(data)+1) / n\n",
    "    return x, y\n",
    "x, y = ecdf(df['temperature'])"
   ]
  },
  {
   "cell_type": "code",
   "execution_count": 100,
   "metadata": {},
   "outputs": [
    {
     "name": "stdout",
     "output_type": "stream",
     "text": [
      "11\n"
     ]
    },
    {
     "data": {
      "image/png": "[encoded data removed]",
      "text/plain": [
       "<matplotlib.figure.Figure at 0x242cc6626a0>"
      ]
     },
     "metadata": {},
     "output_type": "display_data"
    }
   ],
   "source": [
    "fig, ax = plt.subplots(1,2,figsize=(10, 5))\n",
    "bins = np.sqrt(len(df))\n",
    "bins = int(bins)\n",
    "print(bins)\n",
    "\n",
    "# Compute mean and standard deviation: mu, sigma\n",
    "mu = np.mean(df['temperature'])\n",
    "sigma = np.std(df['temperature'])\n",
    "\n",
    "# Sample out of a normal distribution with this mu and sigma: samples\n",
    "samples = np.random.normal(mu, sigma, size=1000)\n",
    "\n",
    "# Get the CDF of the samples and of the data\n",
    "x_theor, y_theor = ecdf(samples)\n",
    "\n",
    "\n",
    "ax[0].hist(df['temperature'], density=True, bins=bins)\n",
    "ax[0].set_xlabel('human body temperature, F')\n",
    "ax[0].set_ylabel('frequency')\n",
    "ax[1].plot(x, y, marker='.', markersize=3, linestyle='none')\n",
    "ax[1].plot(x_theor, y_theor)\n",
    "ax[1].set_xlabel('human body temperature, F')\n",
    "ax[1].set_ylabel('ecdf')\n",
    "ax[1].legend(('sample', 'normal'), loc='lower right')\n",
    "\n",
    "plt.show()"
   ]
  },
  {
   "cell_type": "code",
   "execution_count": 144,
   "metadata": {},
   "outputs": [
    {
     "data": {
      "text/plain": [
       "NormaltestResult(statistic=2.7038014333192031, pvalue=0.2587479863488254)"
      ]
     },
     "execution_count": 144,
     "metadata": {},
     "output_type": "execute_result"
    }
   ],
   "source": [
    "# Normalality test using stats function\n",
    "stats.normaltest(df['temperature'])"
   ]
  },
  {
   "cell_type": "markdown",
   "metadata": {},
   "source": [
    "The left figure shows the distribution is more or less close to be normal. Empirical cumulative distribution of the corresponding normal distribution is very close to the data, as shown in the right figure. The normaltest() rusults give a high p-value, indicating it is more likely to be a normal distribution. "
   ]
  },
  {
   "cell_type": "markdown",
   "metadata": {},
   "source": [
    "## 2. Is the sample size large? Are the observations independent?"
   ]
  },
  {
   "cell_type": "code",
   "execution_count": 140,
   "metadata": {},
   "outputs": [
    {
     "name": "stdout",
     "output_type": "stream",
     "text": [
      "There are 130 oberservations in the sample.\n"
     ]
    }
   ],
   "source": [
    "print('There are {} oberservations in the sample.'.format(len(df)))"
   ]
  },
  {
   "cell_type": "markdown",
   "metadata": {},
   "source": [
    "The minimum requirement for sample size is 30 in order to be considered as representive of population distribution. We can say the sample is large enough. It is much less than 10% of hundreds of millions population, so it is independant."
   ]
  },
  {
   "cell_type": "markdown",
   "metadata": {},
   "source": [
    "## 3. Is the true population mean really 98.6 degrees F?"
   ]
  },
  {
   "cell_type": "markdown",
   "metadata": {},
   "source": [
    "### 3.1 Bootstrap hypothesis test\n",
    "- H0: Population mean is 98.6 degrees F.\n",
    "- Ha: Population mean is not 98.6 degrees F."
   ]
  },
  {
   "cell_type": "code",
   "execution_count": 8,
   "metadata": {
    "collapsed": true
   },
   "outputs": [],
   "source": [
    "def draw_bs_reps(data, func, size=1):\n",
    "    \"\"\"Draw bootstrap replicates.\"\"\"\n",
    "\n",
    "    # Initialize array of replicates: bs_replicates\n",
    "    bs_replicates = np.empty(size)\n",
    "\n",
    "    # Generate replicates\n",
    "    for i in range(size):\n",
    "        bs_replicates[i] = func(np.random.choice(data, size=len(data)))\n",
    "\n",
    "    return bs_replicates"
   ]
  },
  {
   "cell_type": "code",
   "execution_count": 145,
   "metadata": {},
   "outputs": [
    {
     "name": "stdout",
     "output_type": "stream",
     "text": [
      "sample_mean: 98.24923076923078\n",
      "p-value = 0.0\n"
     ]
    },
    {
     "data": {
      "image/png": "[encoded data removed]",
      "text/plain": [
       "<matplotlib.figure.Figure at 0x242cc4f07f0>"
      ]
     },
     "metadata": {},
     "output_type": "display_data"
    }
   ],
   "source": [
    "sample = df['temperature']\n",
    "\n",
    "hypothesis=98.6\n",
    "\n",
    "sample_mean = np.mean(data)\n",
    "print('sample_mean:', sample_mean)\n",
    "\n",
    "sample_shifted = sample - np.mean(sample) + hypothesis\n",
    "\n",
    "# Take bootstrap replicates of  temperature\n",
    "bs_replicates = draw_bs_reps(sample_shifted, np.mean, 10000)\n",
    "\n",
    "# Compute fraction of replicates that are less than the observed temperature mean: p\n",
    "p_value = np.sum(bs_replicates < sample_mean) / 10000\n",
    "print('p-value =', p_value)\n",
    "\n",
    "plt.hist(bs_replicates, bins=100, density=True)\n",
    "plt.xlim(98.2, 99.0)\n",
    "\n",
    "# mark where sample mean is.\n",
    "plt.vlines(sample_mean, 0, 1, color='r')\n",
    "\n",
    "plt.show()"
   ]
  },
  {
   "cell_type": "markdown",
   "metadata": {},
   "source": [
    "Here the hypothesis is the mean of population is 98.6 F. The sample mean is 98.2 degrees F, which is far from population mean, as shown in the figure above. The p-value is zero, strongly rejecting the hypothesis. Therefore, there is no chance that the population mean is 98.6 degrees F if we trust the sampled data."
   ]
  },
  {
   "cell_type": "markdown",
   "metadata": {},
   "source": [
    "### 3.2 z-test\n",
    "The sample size is large enought to do z-test."
   ]
  },
  {
   "cell_type": "code",
   "execution_count": 109,
   "metadata": {},
   "outputs": [
    {
     "name": "stdout",
     "output_type": "stream",
     "text": [
      "z: -5.47592520208\n",
      "p-value: 2.17615758294e-08\n"
     ]
    }
   ],
   "source": [
    "# sample variance\n",
    "sample_var = np.var(df['temperature'], ddof=0)\n",
    "\n",
    "# sample standard deviation\n",
    "sample_std = np.std(df['temperature'], ddof=0)\n",
    "\n",
    "# assuming sample normal distribution and the mean is 98.6F\n",
    "hypothesis = 98.6\n",
    "\n",
    "# sample size\n",
    "n = len(df['temperature'])\n",
    "\n",
    "# square root for z calculation\n",
    "sqrtn = np.sqrt(n)\n",
    "\n",
    "z = (sample_mean - hypothesis) / (sample_std / sqrtn)\n",
    "\n",
    "print('z:', z)\n",
    "\n",
    "# p-value\n",
    "p_val = stats.norm.cdf(z)\n",
    "\n",
    "print('p-value:', p_val)"
   ]
  },
  {
   "cell_type": "markdown",
   "metadata": {},
   "source": [
    "### 3.3 t-test"
   ]
  },
  {
   "cell_type": "code",
   "execution_count": 151,
   "metadata": {},
   "outputs": [
    {
     "name": "stdout",
     "output_type": "stream",
     "text": [
      "variance by ddof=1: 0.5375575432319613\n",
      "std by ddof=1: 0.7331831580389454\n",
      "t statistic: -5.45482329236\n",
      "p-val: 1.20531602078e-07\n"
     ]
    }
   ],
   "source": [
    "sample_mean = np.mean(df['temperature'])\n",
    "\n",
    "sample_var = np.var(df['temperature'], ddof=1)\n",
    "print('variance by ddof=1:', sample_var)\n",
    "\n",
    "sample_std = np.std(df['temperature'], ddof=1)\n",
    "print('std by ddof=1:', sample_std)\n",
    "\n",
    "hypothesis = 98.6\n",
    "n = len(df['temperature'])\n",
    "sqrtn = np.sqrt(n)\n",
    "t = (sample_mean - hypothesis) / (sample_std / sqrtn)\n",
    "print('t statistic:', t)\n",
    "p_val = stats.t.cdf(t, n-1)\n",
    "print('p-val:', p_val)"
   ]
  },
  {
   "cell_type": "markdown",
   "metadata": {},
   "source": [
    "Here the z-score and t-score are similar. p-values from both test are extremely small, suggesting the hypothesis is wrong. So the population mean is not 98.6 degrees F based on the sampled data.\n",
    "\n",
    "Both z-test and t-test give very similar results."
   ]
  },
  {
   "cell_type": "markdown",
   "metadata": {},
   "source": [
    "## 4. Draw a small sample of size 10 from the data and repeat both frequentist tests"
   ]
  },
  {
   "cell_type": "code",
   "execution_count": 164,
   "metadata": {},
   "outputs": [
    {
     "data": {
      "text/plain": [
       "array([ 99. ,  99.1,  98.3,  98.9,  98.2,  98.2,  98.2,  96.7,  97.6,  99. ])"
      ]
     },
     "execution_count": 164,
     "metadata": {},
     "output_type": "execute_result"
    }
   ],
   "source": [
    "sample = np.random.choice(df['temperature'], size=10)\n",
    "sample"
   ]
  },
  {
   "cell_type": "markdown",
   "metadata": {},
   "source": [
    "### 4.1 Bootstrap test"
   ]
  },
  {
   "cell_type": "code",
   "execution_count": 161,
   "metadata": {},
   "outputs": [
    {
     "name": "stdout",
     "output_type": "stream",
     "text": [
      "sample_mean: 98.39\n",
      "p-value = 0.0001\n"
     ]
    }
   ],
   "source": [
    "sample_mean = np.mean(sample)\n",
    "print('sample_mean:', sample_mean)\n",
    "\n",
    "sample_shifted = small_sample - np.mean(sample) + 98.6\n",
    "\n",
    "# Take bootstrap replicates of Frog B's translated impact forces: bs_replicates\n",
    "# bs_replicates = draw_bs_reps(sample_shifted, diff_from_hypothesis, 10000)\n",
    "\n",
    "bs_replicates = draw_bs_reps(sample_shifted, np.mean, 10)\n",
    "\n",
    "# Compute fraction of replicates that are less than the observed temperature mean: p\n",
    "p_value = np.sum(bs_replicates < sample_mean) / 10000\n",
    "print('p-value =', p_value)"
   ]
  },
  {
   "cell_type": "markdown",
   "metadata": {},
   "source": [
    "### 4.2 z-test"
   ]
  },
  {
   "cell_type": "code",
   "execution_count": 165,
   "metadata": {},
   "outputs": [
    {
     "name": "stdout",
     "output_type": "stream",
     "text": [
      "z: -0.906301278727\n",
      "p-value: 0.817611795559\n"
     ]
    }
   ],
   "source": [
    "sample_mean = np.mean(sample)\n",
    "\n",
    "sample_std = np.std(sample, ddof=0)\n",
    "\n",
    "hypothesis = 98.6\n",
    "n = len(sample)\n",
    "sqrtn = np.sqrt(n)\n",
    "z = (sample_mean - hypothesis) / (sample_std / sqrtn)\n",
    "print('z:', z)\n",
    "p_val = 1- stats.norm.cdf(z)\n",
    "print('p-value:', p_val)"
   ]
  },
  {
   "cell_type": "markdown",
   "metadata": {},
   "source": [
    "### 4.3 t-test"
   ]
  },
  {
   "cell_type": "code",
   "execution_count": 166,
   "metadata": {},
   "outputs": [
    {
     "name": "stdout",
     "output_type": "stream",
     "text": [
      "variance: 0.596555555556\n",
      "std: 0.77237008976\n",
      "t statistic: -0.85979288613\n",
      "p-val: 0.206109671194\n"
     ]
    }
   ],
   "source": [
    "sample_mean = np.mean(sample)\n",
    "\n",
    "sample_var = np.var(sample, ddof=1)\n",
    "print('variance:', sample_var)\n",
    "\n",
    "sample_std = np.std(sample, ddof=1)\n",
    "print('std:', sample_std)\n",
    "\n",
    "n = len(sample)\n",
    "sqrtn = np.sqrt(n)\n",
    "t = (sample_mean - 98.6) / (sample_std / sqrtn)\n",
    "print('t statistic:', t)\n",
    "p_val = stats.t.cdf(t, n-1)\n",
    "print('p-val:', p_val)"
   ]
  },
  {
   "cell_type": "markdown",
   "metadata": {},
   "source": [
    "With small sample, there is big difference in the results using different test methodology. Bootstrap test shows a p-value close to 0, which is most realistic. P-value from z-test and t-test is 0.8 and 0.2, respectively, which would support the null hypothesis. With such small sample size, both z-test and t-test could lead to draw worong conclusion."
   ]
  },
  {
   "cell_type": "markdown",
   "metadata": {},
   "source": [
    "The advantage of using bootstrap method is obvious."
   ]
  },
  {
   "cell_type": "markdown",
   "metadata": {},
   "source": [
    "## 5. At what temperature should we consider someone's temperature to be \"abnormal\"?"
   ]
  },
  {
   "cell_type": "markdown",
   "metadata": {},
   "source": [
    "### 5.1 Bootstrap approach"
   ]
  },
  {
   "cell_type": "code",
   "execution_count": 168,
   "metadata": {},
   "outputs": [
    {
     "name": "stdout",
     "output_type": "stream",
     "text": [
      "The margin of error is:  0.00126635407851\n",
      "95% confidence interval is between 98.1215384615 and 98.3769230769\n"
     ]
    }
   ],
   "source": [
    "bs_replicates = draw_bs_reps(df['temperature'], np.mean, 10000)\n",
    "\n",
    "# z value for 95% confidence\n",
    "z = 1.96  \n",
    "\n",
    "# Calculates margin of error for sample mean with 95% confidence\n",
    "moe = z * np.std(bs_replicates) / np.sqrt(len(bs_replicates))\n",
    "\n",
    "print('The margin of error is: ', moe)\n",
    "\n",
    "# Calculates 95% confidence interval\n",
    "confidence_interval = np.percentile(bs_replicates, [2.5, 97.5])\n",
    "\n",
    "print('95% confidence interval is between', confidence_interval[0], 'and', confidence_interval[1])"
   ]
  },
  {
   "cell_type": "markdown",
   "metadata": {},
   "source": [
    "### 5.2 Regular approach"
   ]
  },
  {
   "cell_type": "code",
   "execution_count": 169,
   "metadata": {},
   "outputs": [
    {
     "name": "stdout",
     "output_type": "stream",
     "text": [
      "The margin of error is:  0.125550964803\n",
      "95% confidence interval is between 96.7225 and 99.4775\n"
     ]
    }
   ],
   "source": [
    "bs_replicates = draw_bs_reps(df['temperature'], np.mean, 10000)\n",
    "\n",
    "# z value for 95% confidence\n",
    "z = 1.96  \n",
    "\n",
    "# Calculates margin of error for sample mean with 95% confidence\n",
    "moe = z * np.std(df['temperature']) / np.sqrt(len(df['temperature']))\n",
    "\n",
    "print('The margin of error is: ', moe)\n",
    "\n",
    "# Calculates 95% confidence interval\n",
    "confidence_interval = np.percentile(df['temperature'], [2.5, 97.5])\n",
    "\n",
    "print('95% confidence interval is between', confidence_interval[0], 'and', confidence_interval[1])"
   ]
  },
  {
   "cell_type": "markdown",
   "metadata": {},
   "source": [
    "Again bootstrap approach gives very different results than regular approach. The former has a margin of error of 0.001, which is much smaller than 0.1 of the latter. "
   ]
  },
  {
   "cell_type": "markdown",
   "metadata": {},
   "source": [
    "We would prefer the bootstrap approach. So if someone's temperature is lower than 98.12 F or larger than 98.38 F, it is considered 'abnormal'."
   ]
  },
  {
   "cell_type": "markdown",
   "metadata": {},
   "source": [
    "## 6. Is there a significant difference between males and females in normal temperature?"
   ]
  },
  {
   "cell_type": "markdown",
   "metadata": {},
   "source": [
    "This a two sample test for population mean. We make a hypothesis as follows,\n",
    "- H0: There is no difference in male and female temperature.\n",
    "- Ha: There is difference in male and female temperature.\n",
    "We can conveniently use two sample permutation bootstrap method for the null hypothesis test."
   ]
  },
  {
   "cell_type": "markdown",
   "metadata": {},
   "source": [
    "### 6.1 Bootstrap approach"
   ]
  },
  {
   "cell_type": "code",
   "execution_count": 142,
   "metadata": {
    "scrolled": true
   },
   "outputs": [
    {
     "name": "stdout",
     "output_type": "stream",
     "text": [
      "-0.289230769230727\n",
      "p_value 0.011\n"
     ]
    }
   ],
   "source": [
    "def permutation_sample(data1, data2):\n",
    "    \"\"\"Generate a permutation sample from two data sets.\"\"\"\n",
    "\n",
    "    # Concatenate the data sets: data\n",
    "    data = np.concatenate((data1, data2))\n",
    "\n",
    "    # Permute the concatenated array: permuted_data\n",
    "    permuted_data = np.random.permutation(data)\n",
    "\n",
    "    # Split the permuted array into two: perm_sample_1, perm_sample_2\n",
    "    perm_sample_1 = permuted_data[:len(data1)]\n",
    "    perm_sample_2 = permuted_data[len(data1):]\n",
    "\n",
    "    return perm_sample_1, perm_sample_2\n",
    "\n",
    "def draw_perm_reps(data_1, data_2, func, size=1):\n",
    "    \"\"\"Generate multiple permutation replicates.\"\"\"\n",
    "\n",
    "    # Initialize array of replicates: perm_replicates\n",
    "    perm_replicates = np.empty(size)\n",
    "\n",
    "    for i in range(size):\n",
    "        # Generate permutation sample\n",
    "        perm_sample_1, perm_sample_2 = permutation_sample(data_1, data_2)\n",
    "\n",
    "        # Compute the test statistic\n",
    "        perm_replicates[i] = func(perm_sample_1, perm_sample_2)\n",
    "\n",
    "    return perm_replicates\n",
    "\n",
    "def diff(data1, data2):\n",
    "    return data1.mean() - data2.mean()\n",
    "\n",
    "male = df['temperature'][df['gender']=='M']\n",
    "female = df['temperature'][df['gender']=='F']\n",
    "\n",
    "sample_diff_mean = diff(male, female)\n",
    "print(sample_diff_mean)\n",
    "bs_replicates = draw_perm_reps(male, female, diff, size=10000)\n",
    "\n",
    "p_value = np.sum(bs_replicates <= sample_diff_mean) / len(bs_replicates)\n",
    "\n",
    "print('p_value', p_value)\n"
   ]
  },
  {
   "cell_type": "markdown",
   "metadata": {},
   "source": [
    "P-value is small compared with 0.025. We can reject the hypothesis and conclude that the temperature of male and female is very different."
   ]
  },
  {
   "cell_type": "markdown",
   "metadata": {},
   "source": [
    "### 6.3 Frequentist probality approach"
   ]
  },
  {
   "cell_type": "code",
   "execution_count": null,
   "metadata": {
    "collapsed": true
   },
   "outputs": [],
   "source": []
  },
  {
   "cell_type": "code",
   "execution_count": null,
   "metadata": {
    "collapsed": true
   },
   "outputs": [],
   "source": []
  },
  {
   "cell_type": "markdown",
   "metadata": {},
   "source": [
    "### 6.4 Visual approach"
   ]
  },
  {
   "cell_type": "code",
   "execution_count": 135,
   "metadata": {},
   "outputs": [
    {
     "data": {
      "image/png": "[encoded data removed]",
      "text/plain": [
       "<matplotlib.figure.Figure at 0x242cc39c4a8>"
      ]
     },
     "metadata": {},
     "output_type": "display_data"
    }
   ],
   "source": [
    "x_M, y_M = ecdf(male)\n",
    "x_F, y_F = ecdf(female)\n",
    "plt.plot(x_M, y_M, marker='.', linestyle='none')\n",
    "plt.plot(x_F, y_F, marker='.', linestyle='none')\n",
    "plt.legend(('male', 'female'), loc='lower right')\n",
    "plt.show()"
   ]
  },
  {
   "cell_type": "markdown",
   "metadata": {},
   "source": [
    "The empirical cumulative distribution plot of male and female also shows clear difference in their body temperature. Obviously females are warmer than males!"
   ]
  },
  {
   "cell_type": "markdown",
   "metadata": {},
   "source": [
    "The orginal question is if the sample mean is population mean 98.6F. Both z-text and t-test denied it on condition of large sample size. When we use small sample, we could draw wrong conclusion. "
   ]
  },
  {
   "cell_type": "markdown",
   "metadata": {},
   "source": [
    "It appears the our sample doesn't support the 120 year-old belief that the population average temperatue is 120F."
   ]
  },
  {
   "cell_type": "markdown",
   "metadata": {},
   "source": [
    "There is sharp difference in male and female temperature. It is fine if we are noly concerned about the average. However, it would be wise to seperate male and female and do the comparison differently when we treat a specific patient according to the gender. This is not discremination against female. Real care and love demands taking care of the difference in gender."
   ]
  }
 ],
 "metadata": {
  "kernelspec": {
   "display_name": "Python 3",
   "language": "python",
   "name": "python3"
  },
  "language_info": {
   "codemirror_mode": {
    "name": "ipython",
    "version": 3
   },
   "file_extension": ".py",
   "mimetype": "text/x-python",
   "name": "python",
   "nbconvert_exporter": "python",
   "pygments_lexer": "ipython3",
   "version": "3.6.3"
  }
 },
 "nbformat": 4,
 "nbformat_minor": 1
}
