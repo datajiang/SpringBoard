{
 "cells": [
  {
   "cell_type": "code",
   "execution_count": 1,
   "metadata": {},
   "outputs": [
    {
     "name": "stdout",
     "output_type": "stream",
     "text": [
      "Collecting catboost\n",
      "  Downloading catboost-0.24.1-cp36-none-win_amd64.whl (65.3 MB)\n",
      "Collecting numpy>=1.16.0\n",
      "  Downloading numpy-1.19.1-cp36-cp36m-win_amd64.whl (12.9 MB)\n",
      "Collecting graphviz\n",
      "  Downloading graphviz-0.14.1-py2.py3-none-any.whl (18 kB)\n",
      "Requirement already satisfied: matplotlib in c:\\users\\dongt\\anaconda3\\lib\\site-packages (from catboost) (3.2.1)\n",
      "Requirement already satisfied: plotly in c:\\users\\dongt\\anaconda3\\lib\\site-packages (from catboost) (4.6.0)\n",
      "Requirement already satisfied: scipy in c:\\users\\dongt\\anaconda3\\lib\\site-packages (from catboost) (1.4.1)\n",
      "Requirement already satisfied: six in c:\\users\\dongt\\anaconda3\\lib\\site-packages (from catboost) (1.11.0)\n",
      "Requirement already satisfied: pandas>=0.24.0 in c:\\users\\dongt\\anaconda3\\lib\\site-packages (from catboost) (1.0.3)\n",
      "Requirement already satisfied: python-dateutil>=2.1 in c:\\users\\dongt\\anaconda3\\lib\\site-packages (from matplotlib->catboost) (2.8.1)\n",
      "Requirement already satisfied: cycler>=0.10 in c:\\users\\dongt\\anaconda3\\lib\\site-packages (from matplotlib->catboost) (0.10.0)\n",
      "Requirement already satisfied: kiwisolver>=1.0.1 in c:\\users\\dongt\\anaconda3\\lib\\site-packages (from matplotlib->catboost) (1.2.0)\n",
      "Requirement already satisfied: pyparsing!=2.0.4,!=2.1.2,!=2.1.6,>=2.0.1 in c:\\users\\dongt\\anaconda3\\lib\\site-packages (from matplotlib->catboost) (2.2.0)\n",
      "Requirement already satisfied: retrying>=1.3.3 in c:\\users\\dongt\\anaconda3\\lib\\site-packages (from plotly->catboost) (1.3.3)\n",
      "Requirement already satisfied: pytz>=2017.2 in c:\\users\\dongt\\anaconda3\\lib\\site-packages (from pandas>=0.24.0->catboost) (2017.2)\n",
      "Installing collected packages: numpy, graphviz, catboost\n",
      "  Attempting uninstall: numpy\n",
      "    Found existing installation: numpy 1.15.4\n",
      "    Uninstalling numpy-1.15.4:\n",
      "      Successfully uninstalled numpy-1.15.4\n"
     ]
    },
    {
     "name": "stderr",
     "output_type": "stream",
     "text": [
      "ERROR: Could not install packages due to an EnvironmentError: [WinError 5] Access is denied: 'c:\\\\users\\\\dongt\\\\anaconda3\\\\lib\\\\site-packages\\\\~umpy\\\\core\\\\multiarray.cp36-win_amd64.pyd'\n",
      "Consider using the `--user` option or check the permissions.\n",
      "\n"
     ]
    },
    {
     "name": "stdout",
     "output_type": "stream",
     "text": [
      "Requirement already satisfied: ipywidgets in c:\\users\\dongt\\anaconda3\\lib\\site-packages (7.0.0)\n",
      "Requirement already satisfied: ipykernel>=4.5.1 in c:\\users\\dongt\\anaconda3\\lib\\site-packages (from ipywidgets) (4.6.1)\n",
      "Requirement already satisfied: traitlets>=4.3.1 in c:\\users\\dongt\\anaconda3\\lib\\site-packages (from ipywidgets) (4.3.2)\n",
      "Requirement already satisfied: nbformat>=4.2.0 in c:\\users\\dongt\\anaconda3\\lib\\site-packages (from ipywidgets) (4.4.0)\n",
      "Requirement already satisfied: widgetsnbextension~=3.0.0 in c:\\users\\dongt\\anaconda3\\lib\\site-packages (from ipywidgets) (3.0.2)\n",
      "Requirement already satisfied: ipython>=4.0.0 in c:\\users\\dongt\\anaconda3\\lib\\site-packages (from ipywidgets) (6.1.0)\n",
      "Requirement already satisfied: jupyter_client in c:\\users\\dongt\\anaconda3\\lib\\site-packages (from ipykernel>=4.5.1->ipywidgets) (5.1.0)\n",
      "Requirement already satisfied: tornado>=4.0 in c:\\users\\dongt\\anaconda3\\lib\\site-packages (from ipykernel>=4.5.1->ipywidgets) (4.5.2)\n",
      "Requirement already satisfied: ipython_genutils in c:\\users\\dongt\\anaconda3\\lib\\site-packages (from traitlets>=4.3.1->ipywidgets) (0.2.0)\n",
      "Requirement already satisfied: six in c:\\users\\dongt\\anaconda3\\lib\\site-packages (from traitlets>=4.3.1->ipywidgets) (1.11.0)\n",
      "Requirement already satisfied: decorator in c:\\users\\dongt\\anaconda3\\lib\\site-packages (from traitlets>=4.3.1->ipywidgets) (4.1.2)\n",
      "Requirement already satisfied: jsonschema!=2.5.0,>=2.4 in c:\\users\\dongt\\anaconda3\\lib\\site-packages (from nbformat>=4.2.0->ipywidgets) (2.6.0)\n",
      "Requirement already satisfied: jupyter_core in c:\\users\\dongt\\anaconda3\\lib\\site-packages (from nbformat>=4.2.0->ipywidgets) (4.3.0)\n",
      "Requirement already satisfied: notebook>=4.4.1 in c:\\users\\dongt\\anaconda3\\lib\\site-packages (from widgetsnbextension~=3.0.0->ipywidgets) (5.0.0)\n",
      "Requirement already satisfied: setuptools>=18.5 in c:\\users\\dongt\\anaconda3\\lib\\site-packages (from ipython>=4.0.0->ipywidgets) (47.3.1)\n",
      "Requirement already satisfied: jedi>=0.10 in c:\\users\\dongt\\anaconda3\\lib\\site-packages (from ipython>=4.0.0->ipywidgets) (0.10.2)\n",
      "Requirement already satisfied: pickleshare in c:\\users\\dongt\\anaconda3\\lib\\site-packages (from ipython>=4.0.0->ipywidgets) (0.7.4)\n",
      "Requirement already satisfied: simplegeneric>0.8 in c:\\users\\dongt\\anaconda3\\lib\\site-packages (from ipython>=4.0.0->ipywidgets) (0.8.1)\n",
      "Requirement already satisfied: prompt_toolkit<2.0.0,>=1.0.4 in c:\\users\\dongt\\anaconda3\\lib\\site-packages (from ipython>=4.0.0->ipywidgets) (1.0.15)\n",
      "Requirement already satisfied: pygments in c:\\users\\dongt\\anaconda3\\lib\\site-packages (from ipython>=4.0.0->ipywidgets) (2.2.0)\n",
      "Requirement already satisfied: colorama in c:\\users\\dongt\\anaconda3\\lib\\site-packages (from ipython>=4.0.0->ipywidgets) (0.3.9)\n",
      "Requirement already satisfied: pyzmq>=13 in c:\\users\\dongt\\anaconda3\\lib\\site-packages (from jupyter_client->ipykernel>=4.5.1->ipywidgets) (16.0.2)\n",
      "Requirement already satisfied: python-dateutil>=2.1 in c:\\users\\dongt\\anaconda3\\lib\\site-packages (from jupyter_client->ipykernel>=4.5.1->ipywidgets) (2.8.1)\n",
      "Requirement already satisfied: wcwidth in c:\\users\\dongt\\anaconda3\\lib\\site-packages (from prompt_toolkit<2.0.0,>=1.0.4->ipython>=4.0.0->ipywidgets) (0.1.7)\n"
     ]
    },
    {
     "name": "stderr",
     "output_type": "stream",
     "text": [
      "Enabling notebook extension jupyter-js-widgets/extension...\n",
      "      - Validating: ok\n"
     ]
    }
   ],
   "source": [
    "!pip install catboost\n",
    "!pip install ipywidgets\n",
    "!jupyter nbextension enable --py widgetsnbextension"
   ]
  }
 ],
 "metadata": {
  "kernelspec": {
   "display_name": "Python 3",
   "language": "python",
   "name": "python3"
  },
  "language_info": {
   "codemirror_mode": {
    "name": "ipython",
    "version": 3
   },
   "file_extension": ".py",
   "mimetype": "text/x-python",
   "name": "python",
   "nbconvert_exporter": "python",
   "pygments_lexer": "ipython3",
   "version": "3.6.3"
  },
  "widgets": {
   "state": {
    "c26d03b66add4e078d26695cab837033": {
     "views": [
      {
       "cell_index": 21
      }
     ]
    }
   },
   "version": "1.2.0"
  }
 },
 "nbformat": 4,
 "nbformat_minor": 2
}
