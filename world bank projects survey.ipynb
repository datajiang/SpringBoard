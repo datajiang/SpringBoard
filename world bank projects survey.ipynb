{
 "cells": [
  {
   "cell_type": "markdown",
   "metadata": {},
   "source": [
    "****\n",
    "## World Bank Projects Survey\n",
    "\n",
    "Using the world back projects data,\n",
    "1. Find the 10 countries with most projects\n",
    "2. Find the top 10 major project themes\n",
    "3. Create a dataframe with the missing names filled in."
   ]
  },
  {
   "cell_type": "code",
   "execution_count": 1,
   "metadata": {},
   "outputs": [],
   "source": [
    "import pandas as pd\n",
    "import numpy as np\n",
    "import json\n",
    "from pandas.io.json import json_normalize\n",
    "\n",
    "df = pd.read_json('data/world_bank_projects.json')"
   ]
  },
  {
   "cell_type": "markdown",
   "metadata": {},
   "source": [
    "## 1. Top 10 countries with most projects"
   ]
  },
  {
   "cell_type": "code",
   "execution_count": 2,
   "metadata": {},
   "outputs": [
    {
     "data": {
      "text/plain": [
       "People's Republic of China         19\n",
       "Republic of Indonesia              19\n",
       "Socialist Republic of Vietnam      17\n",
       "Republic of India                  16\n",
       "Republic of Yemen                  13\n",
       "Kingdom of Morocco                 12\n",
       "People's Republic of Bangladesh    12\n",
       "Nepal                              12\n",
       "Republic of Mozambique             11\n",
       "Africa                             11\n",
       "Name: countryname, dtype: int64"
      ]
     },
     "execution_count": 2,
     "metadata": {},
     "output_type": "execute_result"
    }
   ],
   "source": [
    "df['countryname'].value_counts()[:10]"
   ]
  },
  {
   "cell_type": "markdown",
   "metadata": {},
   "source": [
    "## 2. Top 10 major project themes"
   ]
  },
  {
   "cell_type": "code",
   "execution_count": 3,
   "metadata": {},
   "outputs": [],
   "source": [
    "str_data = json.load((open('data/world_bank_projects.json')))\n",
    "theme = json_normalize(str_data, 'mjtheme_namecode')"
   ]
  },
  {
   "cell_type": "code",
   "execution_count": 4,
   "metadata": {},
   "outputs": [
    {
     "name": "stdout",
     "output_type": "stream",
     "text": [
      "{'8': 'Human development', '11': 'Environment and natural resources management', '1': 'Economic management', '6': 'Social protection and risk management', '5': 'Trade and integration', '2': 'Public sector governance', '7': 'Social dev/gender/inclusion', '4': 'Financial and private sector development', '10': 'Rural development', '9': 'Urban development', '3': 'Rule of law'}\n"
     ]
    }
   ],
   "source": [
    "# dictionary for filling empty entries\n",
    "theme_dict = dict(zip(theme.code, theme.name))  \n",
    "theme_dict['1'] = 'Economic management'\n",
    "theme_dict['6'] = 'Social protection and risk management'\n",
    "print(theme_dict)"
   ]
  },
  {
   "cell_type": "code",
   "execution_count": 5,
   "metadata": {},
   "outputs": [
    {
     "data": {
      "text/plain": [
       "Environment and natural resources management    250\n",
       "Rural development                               216\n",
       "Human development                               210\n",
       "Public sector governance                        199\n",
       "Social protection and risk management           168\n",
       "Financial and private sector development        146\n",
       "Social dev/gender/inclusion                     130\n",
       "Trade and integration                            77\n",
       "Urban development                                50\n",
       "Economic management                              38\n",
       "Name: mjtheme_namecode, dtype: int64"
      ]
     },
     "execution_count": 5,
     "metadata": {},
     "output_type": "execute_result"
    }
   ],
   "source": [
    "# Replace empty entry with new data based on 'code'\n",
    "for index, v in theme['name'].items():\n",
    "    if v == '':\n",
    "        theme[index] = theme_dict[str(theme.code[index])]\n",
    "        df.loc[index, 'mjtheme_namecode'] = theme_dict[str(theme.code[index])]\n",
    "    else:\n",
    "        df.loc[index, 'mjtheme_namecode'] = v\n",
    "df['mjtheme_namecode'].value_counts()[:10]       "
   ]
  },
  {
   "cell_type": "markdown",
   "metadata": {},
   "source": [
    "## 3. Missing names filled"
   ]
  },
  {
   "cell_type": "code",
   "execution_count": 6,
   "metadata": {},
   "outputs": [
    {
     "data": {
      "text/plain": [
       "0                                Human development\n",
       "1     Environment and natural resources management\n",
       "2                              Economic management\n",
       "3            Social protection and risk management\n",
       "4                            Trade and integration\n",
       "5                         Public sector governance\n",
       "6     Environment and natural resources management\n",
       "7            Social protection and risk management\n",
       "8                      Social dev/gender/inclusion\n",
       "9                      Social dev/gender/inclusion\n",
       "10                           Trade and integration\n",
       "11        Financial and private sector development\n",
       "12           Social protection and risk management\n",
       "13           Social protection and risk management\n",
       "14                        Public sector governance\n",
       "15        Financial and private sector development\n",
       "16    Environment and natural resources management\n",
       "17                               Human development\n",
       "18                               Rural development\n",
       "19                     Social dev/gender/inclusion\n",
       "Name: mjtheme_namecode, dtype: object"
      ]
     },
     "execution_count": 6,
     "metadata": {},
     "output_type": "execute_result"
    }
   ],
   "source": [
    "df['mjtheme_namecode'].head(20)"
   ]
  },
  {
   "cell_type": "code",
   "execution_count": null,
   "metadata": {
    "collapsed": true
   },
   "outputs": [],
   "source": []
  }
 ],
 "metadata": {
  "kernelspec": {
   "display_name": "Python 3",
   "language": "python",
   "name": "python3"
  },
  "language_info": {
   "codemirror_mode": {
    "name": "ipython",
    "version": 3
   },
   "file_extension": ".py",
   "mimetype": "text/x-python",
   "name": "python",
   "nbconvert_exporter": "python",
   "pygments_lexer": "ipython3",
   "version": "3.6.3"
  }
 },
 "nbformat": 4,
 "nbformat_minor": 1
}
