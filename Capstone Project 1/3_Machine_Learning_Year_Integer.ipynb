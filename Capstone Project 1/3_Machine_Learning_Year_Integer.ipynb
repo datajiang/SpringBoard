{
 "cells": [
  {
   "cell_type": "code",
   "execution_count": 1,
   "metadata": {
    "collapsed": true
   },
   "outputs": [],
   "source": [
    "import numpy as np\n",
    "import pandas as pd\n",
    "import matplotlib.pyplot as plt\n",
    "import seaborn as sns\n",
    "from mpl_toolkits import mplot3d\n",
    "import missingno as msno\n",
    "\n",
    "# %matplotlib inline\n",
    "# %matplotlib notebook\n",
    "\n",
    "pd.set_option('display.max_columns', 100)\n",
    "\n",
    "import warnings\n",
    "warnings.filterwarnings('ignore')"
   ]
  },
  {
   "cell_type": "code",
   "execution_count": 2,
   "metadata": {
    "collapsed": true,
    "scrolled": true
   },
   "outputs": [],
   "source": [
    "from sklearn.linear_model import LinearRegression\n",
    "from sklearn.linear_model import Ridge\n",
    "from sklearn.linear_model import Lasso\n",
    "from sklearn.linear_model import ElasticNet\n",
    "from sklearn.linear_model import LogisticRegression\n",
    "from sklearn.svm import SVC\n",
    "from sklearn.tree import DecisionTreeClassifier\n",
    "from sklearn.neighbors import KNeighborsClassifier \n",
    "import xgboost as xgb\n",
    "\n",
    "from sklearn.model_selection import GridSearchCV\n",
    "from sklearn.model_selection import train_test_split\n",
    "from sklearn.model_selection import RandomizedSearchCV\n",
    "from sklearn.model_selection import cross_val_score\n",
    "\n",
    "from sklearn.impute import SimpleImputer\n",
    "\n",
    "from sklearn.preprocessing import StandardScaler\n",
    "\n",
    "from sklearn.pipeline import Pipeline\n",
    "\n",
    "# from sklearn.metrics import roc_auc_score\n",
    "# from sklearn.metrics import confusion_matrix, classification_report\n",
    "# from sklearn.metrics import mean_squared_error\n",
    "from sklearn.metrics import r2_score\n",
    "from sklearn.metrics import mean_absolute_error\n",
    "from sklearn.metrics import SCORERS\n",
    "\n",
    "from scipy.stats import randint"
   ]
  },
  {
   "cell_type": "markdown",
   "metadata": {},
   "source": [
    "## Prepare data for machine learning"
   ]
  },
  {
   "cell_type": "code",
   "execution_count": 4,
   "metadata": {
    "collapsed": true
   },
   "outputs": [],
   "source": [
    "temp = pd.read_csv('temp_year_int.csv')\n",
    "X = temp.drop('MSRP', axis=1)\n",
    "y = temp['MSRP']"
   ]
  },
  {
   "cell_type": "code",
   "execution_count": 67,
   "metadata": {},
   "outputs": [
    {
     "data": {
      "text/plain": [
       "dtype('float64')"
      ]
     },
     "execution_count": 67,
     "metadata": {},
     "output_type": "execute_result"
    }
   ],
   "source": [
    "X['Year'].dtypes"
   ]
  },
  {
   "cell_type": "code",
   "execution_count": 6,
   "metadata": {},
   "outputs": [
    {
     "name": "stdout",
     "output_type": "stream",
     "text": [
      "<class 'pandas.core.frame.DataFrame'>\n",
      "RangeIndex: 30239 entries, 0 to 30238\n",
      "Columns: 1436 entries, Year to Engine_Type_Twin-Turbocharged Gas V8\n",
      "dtypes: float64(32), int64(1404)\n",
      "memory usage: 331.3 MB\n"
     ]
    }
   ],
   "source": [
    "X.info()"
   ]
  },
  {
   "cell_type": "markdown",
   "metadata": {},
   "source": [
    "Since the data was aggregated by the car model and year in the dataset, it is necessary to shuffle the data. Otherwise, the train set and test test might be inclined to certain car models. The drawback is not seeing the variety during the learning and prediction score is biased.  Therefore, train_test_split is used here for the single purpose of shuffling the dataset. That is why the test_size is set very small, it is not really going to used for evaluation. The evaluation is done inside cross_val_score function using 20% of X_train and y_train, i.e., cv=5."
   ]
  },
  {
   "cell_type": "code",
   "execution_count": 7,
   "metadata": {
    "collapsed": true
   },
   "outputs": [],
   "source": [
    "# hold scores for different models\n",
    "scores = {}"
   ]
  },
  {
   "cell_type": "markdown",
   "metadata": {},
   "source": [
    "### Linear Regression"
   ]
  },
  {
   "cell_type": "code",
   "execution_count": 8,
   "metadata": {},
   "outputs": [
    {
     "name": "stdout",
     "output_type": "stream",
     "text": [
      "Linear Regression Cross-Validation Scores:\n",
      "0.9651264395918613\n",
      "0.9689271404169615\n",
      "0.9543460541230163\n",
      "0.9655432039912849\n",
      "0.950560995333501\n",
      "Average Score: 0.960900766691325\n",
      "Wall time: 13 s\n"
     ]
    }
   ],
   "source": [
    "%%time\n",
    "# Create training and test sets\n",
    "X_train, X_test, y_train, y_test = train_test_split(X, y, random_state=21)\n",
    "\n",
    "# Create the regressor: reg_all\n",
    "lr = LinearRegression()\n",
    "\n",
    "cross_val_scores= cross_val_score(lr, X_train, y_train, cv=5, scoring='r2')\n",
    "\n",
    "\n",
    "scores['Linear regression'] = np.mean(cross_val_scores)\n",
    "\n",
    "print('Linear Regression Cross-Validation Scores:')\n",
    "for score in cross_val_scores:\n",
    "    print(score)\n",
    "print('Average Score:', scores['Linear regression'])\n",
    "\n"
   ]
  },
  {
   "cell_type": "markdown",
   "metadata": {},
   "source": [
    "## Ridge Regression"
   ]
  },
  {
   "cell_type": "code",
   "execution_count": 9,
   "metadata": {
    "scrolled": true
   },
   "outputs": [
    {
     "name": "stdout",
     "output_type": "stream",
     "text": [
      "Ridge Regression Cross-Validation Scores:\n",
      "0.9597048330706274\n",
      "0.9620711994509747\n",
      "0.9579237500223583\n",
      "0.9593171717402567\n",
      "0.9502609137308421\n",
      "Average Score: 0.9578555736030119\n",
      "Wall time: 5.92 s\n"
     ]
    }
   ],
   "source": [
    "%%time\n",
    "# shuffle the dataset\n",
    "X_train, X_test, y_train, y_test = train_test_split(X, y, random_state=21)\n",
    "\n",
    "ridge = Ridge(random_state=42)\n",
    "\n",
    "cross_val_scores = cross_val_score(ridge, X_train, y_train, cv=5, scoring='r2')\n",
    "scores[\"Ridge Regression\"] = np.mean(cross_val_scores)\n",
    "\n",
    "print(\"Ridge Regression Cross-Validation Scores:\")\n",
    "for score in cross_val_scores:\n",
    "    print(score)\n",
    "print('Average Score:', scores[\"Ridge Regression\"])#"
   ]
  },
  {
   "cell_type": "markdown",
   "metadata": {},
   "source": [
    "## Lasso Regression"
   ]
  },
  {
   "cell_type": "code",
   "execution_count": 10,
   "metadata": {
    "scrolled": false
   },
   "outputs": [
    {
     "name": "stdout",
     "output_type": "stream",
     "text": [
      "Lasso Regression Cross-Validation Scores:\n",
      "0.9635947832732212\n",
      "0.9669472026442455\n",
      "0.9526140071140484\n",
      "0.9631316370007833\n",
      "0.9627409043666872\n",
      "Average Score on 5-Folds: 0.9618057068797972\n",
      "Wall time: 2min 29s\n"
     ]
    }
   ],
   "source": [
    "%%time\n",
    "from sklearn.linear_model import Lasso\n",
    "\n",
    "# shuffle the dataset\n",
    "X_train, X_test, y_train, y_test = train_test_split(X, y, random_state=21)\n",
    "\n",
    "lasso = Lasso(random_state=42)\n",
    "\n",
    "cross_val_scores = cross_val_score(lasso, X_train, y_train, cv=5, scoring='r2')\n",
    "scores[\"Lasso Regression\"] = np.mean(cross_val_scores)\n",
    "\n",
    "print(\"Lasso Regression Cross-Validation Scores:\")\n",
    "for score in cross_val_scores:\n",
    "    print(score)\n",
    "print('Average Score on 5-Folds:', scores[\"Lasso Regression\"])\n"
   ]
  },
  {
   "cell_type": "markdown",
   "metadata": {},
   "source": [
    "## Decision Tree"
   ]
  },
  {
   "cell_type": "code",
   "execution_count": 11,
   "metadata": {
    "scrolled": false
   },
   "outputs": [
    {
     "name": "stdout",
     "output_type": "stream",
     "text": [
      "Decision Tree Cross-Validation Scores:\n",
      "0.9114917977207571\n",
      "0.9170535531515565\n",
      "0.8859674424940345\n",
      "0.8915948281017029\n",
      "0.9202248693243329\n",
      "Average Score: 0.9052664981584767\n"
     ]
    }
   ],
   "source": [
    "from sklearn.tree import DecisionTreeRegressor\n",
    "\n",
    "# shuffle dataset\n",
    "X_train, X_test, y_train, y_test = train_test_split(X, y, random_state=21)\n",
    "\n",
    "trees = DecisionTreeRegressor(max_depth=6, random_state=42)\n",
    "\n",
    "cross_val_scores = cross_val_score(trees, X_train, y_train, cv=5, scoring='r2')\n",
    "\n",
    "scores[\"Decision Tree\"] = np.mean(cross_val_scores)\n",
    "\n",
    "print(\"Decision Tree Cross-Validation Scores:\")\n",
    "for score in cross_val_scores:\n",
    "    print(score)\n",
    "print('Average Score:', scores[\"Decision Tree\"])"
   ]
  },
  {
   "cell_type": "markdown",
   "metadata": {},
   "source": [
    "# Random Forest"
   ]
  },
  {
   "cell_type": "code",
   "execution_count": 12,
   "metadata": {},
   "outputs": [
    {
     "name": "stdout",
     "output_type": "stream",
     "text": [
      "Test score: 0.9853800204067557\n",
      "Wall time: 2min 29s\n"
     ]
    }
   ],
   "source": [
    "%%time\n",
    "from sklearn.ensemble import RandomForestRegressor\n",
    "\n",
    "# Create training and test sets\n",
    "X_train, X_test, y_train, y_test = train_test_split(X, y, test_size = 0.3, random_state=21)\n",
    "\n",
    "rf = RandomForestRegressor(n_estimators=100, criterion='mse', max_depth=None, min_samples_split=2, min_samples_leaf=1, \n",
    "                           min_weight_fraction_leaf=0.0, max_features='auto', max_leaf_nodes=None, \n",
    "                           min_impurity_decrease=0.0, min_impurity_split=None, bootstrap=True, oob_score=False, \n",
    "                           n_jobs=None, random_state=None, verbose=0, warm_start=False, ccp_alpha=0.0, max_samples=None)\n",
    "\n",
    "rf.fit(X_train, y_train)\n",
    "\n",
    "predicted_test = rf.predict(X_test)\n",
    "test_score = r2_score(y_test, predicted_test)\n",
    "scores[\"Random Forest\"] = test_score\n",
    "print('Test score:', test_score)"
   ]
  },
  {
   "cell_type": "code",
   "execution_count": 13,
   "metadata": {},
   "outputs": [
    {
     "name": "stdout",
     "output_type": "stream",
     "text": [
      "Random Forest 0.9853800204067557\n",
      "Lasso Regression 0.9618057068797972\n",
      "Linear regression 0.960900766691325\n",
      "Ridge Regression 0.9578555736030119\n",
      "Decision Tree 0.9052664981584767\n"
     ]
    }
   ],
   "source": [
    "scores = sorted(scores.items(), key=lambda score: score[1], reverse=True)\n",
    "\n",
    "for i in range(len(scores)):\n",
    "    print(scores[i][0], scores[i][1])"
   ]
  },
  {
   "cell_type": "markdown",
   "metadata": {},
   "source": [
    "Random Forest shows the best performance."
   ]
  },
  {
   "cell_type": "code",
   "execution_count": 14,
   "metadata": {
    "collapsed": true
   },
   "outputs": [],
   "source": [
    "scores_r2 = scores"
   ]
  },
  {
   "cell_type": "markdown",
   "metadata": {},
   "source": [
    "## Evaluate Algorithms Using Mean Absolute Error Metric"
   ]
  },
  {
   "cell_type": "code",
   "execution_count": 15,
   "metadata": {
    "collapsed": true
   },
   "outputs": [],
   "source": [
    "# hold scores for different models\n",
    "scores = {}"
   ]
  },
  {
   "cell_type": "markdown",
   "metadata": {},
   "source": [
    "### Linear Regression"
   ]
  },
  {
   "cell_type": "code",
   "execution_count": 16,
   "metadata": {
    "scrolled": true
   },
   "outputs": [
    {
     "name": "stdout",
     "output_type": "stream",
     "text": [
      "Linear Regression Cross-Validation Scores:\n",
      "-3221.6572359044876\n",
      "-3201.474044902402\n",
      "-3212.902574549008\n",
      "-3094.184599577493\n",
      "-3272.4911129754396\n",
      "Average Score: -3200.541913581766\n",
      "Wall time: 14.4 s\n"
     ]
    }
   ],
   "source": [
    "%%time\n",
    "# Create training and test sets\n",
    "X_train, X_test, y_train, y_test = train_test_split(X, y, random_state=21)\n",
    "\n",
    "# Create the regressor: reg_all\n",
    "lr = LinearRegression()\n",
    "\n",
    "cross_val_scores= cross_val_score(lr, X_train, y_train, cv=5, scoring='neg_mean_absolute_error')\n",
    "\n",
    "\n",
    "scores['Linear regression'] = np.mean(cross_val_scores)\n",
    "\n",
    "print('Linear Regression Cross-Validation Scores:')\n",
    "for score in cross_val_scores:\n",
    "    print(score)\n",
    "print('Average Score:', scores['Linear regression'])\n",
    "\n",
    "# lr.fit(X_test, y_test)\n",
    "# predicted_test = lr.predict(X_test)\n",
    "# test_score = r2_score(y_test, predicted_test)\n",
    "# final_scores[\"Lasso\"] = test_score\n",
    "# print('Final score:', test_score)"
   ]
  },
  {
   "cell_type": "code",
   "execution_count": 17,
   "metadata": {
    "collapsed": true
   },
   "outputs": [],
   "source": [
    "# sorted(SCORERS.keys())"
   ]
  },
  {
   "cell_type": "markdown",
   "metadata": {},
   "source": [
    "## Ridge Regression"
   ]
  },
  {
   "cell_type": "code",
   "execution_count": 18,
   "metadata": {
    "scrolled": true
   },
   "outputs": [
    {
     "name": "stdout",
     "output_type": "stream",
     "text": [
      "Ridge Regression Cross-Validation Scores:\n",
      "-3701.647547820652\n",
      "-3754.496475824158\n",
      "-3614.898467980299\n",
      "-3624.826216781078\n",
      "-3661.5743867545975\n",
      "Average Score: -3671.488619032157\n",
      "Wall time: 5.39 s\n"
     ]
    }
   ],
   "source": [
    "%%time\n",
    "# shuffle the dataset\n",
    "X_train, X_test, y_train, y_test = train_test_split(X, y, random_state=21)\n",
    "\n",
    "ridge = Ridge(random_state=42)\n",
    "\n",
    "cross_val_scores = cross_val_score(ridge, X_train, y_train, cv=5, scoring='neg_mean_absolute_error')\n",
    "scores[\"Ridge Regression\"] = np.mean(cross_val_scores)\n",
    "\n",
    "print(\"Ridge Regression Cross-Validation Scores:\")\n",
    "for score in cross_val_scores:\n",
    "    print(score)\n",
    "print('Average Score:', scores[\"Ridge Regression\"])#"
   ]
  },
  {
   "cell_type": "markdown",
   "metadata": {},
   "source": [
    "## Lasso Regression"
   ]
  },
  {
   "cell_type": "code",
   "execution_count": 19,
   "metadata": {
    "scrolled": false
   },
   "outputs": [
    {
     "name": "stdout",
     "output_type": "stream",
     "text": [
      "Lasso Regression Cross-Validation Scores:\n",
      "-3388.4883170743365\n",
      "-3422.889017733182\n",
      "-3432.0473623612284\n",
      "-3345.8563602594527\n",
      "-3402.380627602356\n",
      "Average Score on 5-Folds: -3398.3323370061107\n",
      "Wall time: 2min 6s\n"
     ]
    }
   ],
   "source": [
    "%%time\n",
    "from sklearn.linear_model import Lasso\n",
    "\n",
    "# shuffle the dataset\n",
    "X_train, X_test, y_train, y_test = train_test_split(X, y, random_state=21)\n",
    "\n",
    "lasso = Lasso(random_state=42)\n",
    "\n",
    "cross_val_scores = cross_val_score(lasso, X_train, y_train, cv=5, scoring='neg_mean_absolute_error')\n",
    "scores[\"Lasso Regression\"] = np.mean(cross_val_scores)\n",
    "\n",
    "print(\"Lasso Regression Cross-Validation Scores:\")\n",
    "for score in cross_val_scores:\n",
    "    print(score)\n",
    "print('Average Score on 5-Folds:', scores[\"Lasso Regression\"])"
   ]
  },
  {
   "cell_type": "markdown",
   "metadata": {},
   "source": [
    "## Decision Tree"
   ]
  },
  {
   "cell_type": "code",
   "execution_count": 20,
   "metadata": {
    "scrolled": false
   },
   "outputs": [
    {
     "name": "stdout",
     "output_type": "stream",
     "text": [
      "Decision Tree Cross-Validation Scores:\n",
      "-5721.905927363076\n",
      "-5772.605596626145\n",
      "-6090.354674955384\n",
      "-5891.8759665484695\n",
      "-5626.5098476788435\n",
      "Average Score: -5820.650402634384\n"
     ]
    }
   ],
   "source": [
    "from sklearn.tree import DecisionTreeRegressor\n",
    "\n",
    "# shuffle dataset\n",
    "X_train, X_test, y_train, y_test = train_test_split(X, y, random_state=21)\n",
    "\n",
    "trees = DecisionTreeRegressor(max_depth=6, random_state=42)\n",
    "\n",
    "cross_val_scores = cross_val_score(trees, X_train, y_train, cv=5, scoring='neg_mean_absolute_error')\n",
    "\n",
    "scores[\"Decision Tree\"] = np.mean(cross_val_scores)\n",
    "\n",
    "print(\"Decision Tree Cross-Validation Scores:\")\n",
    "for score in cross_val_scores:\n",
    "    print(score)\n",
    "print('Average Score:', scores[\"Decision Tree\"])"
   ]
  },
  {
   "cell_type": "markdown",
   "metadata": {},
   "source": [
    "# Random Forest"
   ]
  },
  {
   "cell_type": "code",
   "execution_count": 21,
   "metadata": {},
   "outputs": [
    {
     "name": "stdout",
     "output_type": "stream",
     "text": [
      "Test score: -1691.4190882494902\n",
      "Wall time: 2min 23s\n"
     ]
    }
   ],
   "source": [
    "%%time\n",
    "from sklearn.ensemble import RandomForestRegressor\n",
    "\n",
    "# Create training and test sets\n",
    "X_train, X_test, y_train, y_test = train_test_split(X, y, test_size = 0.3, random_state=21)\n",
    "\n",
    "rf = RandomForestRegressor(n_estimators=100, criterion='mse', max_depth=None, min_samples_split=2, min_samples_leaf=1, \n",
    "                           min_weight_fraction_leaf=0.0, max_features='auto', max_leaf_nodes=None, \n",
    "                           min_impurity_decrease=0.0, min_impurity_split=None, bootstrap=True, oob_score=False, \n",
    "                           n_jobs=None, random_state=None, verbose=0, warm_start=False, ccp_alpha=0.0, max_samples=None)\n",
    "\n",
    "rf.fit(X_train, y_train)\n",
    "\n",
    "predicted_test = rf.predict(X_test)\n",
    "test_score = -1 * mean_absolute_error(y_test, predicted_test)\n",
    "scores[\"Random Forest\"] = test_score\n",
    "print('Test score:', test_score)"
   ]
  },
  {
   "cell_type": "code",
   "execution_count": 22,
   "metadata": {},
   "outputs": [
    {
     "name": "stdout",
     "output_type": "stream",
     "text": [
      "Test score: -1691.4190882494902\n"
     ]
    }
   ],
   "source": [
    "print('Test score:', test_score)"
   ]
  },
  {
   "cell_type": "code",
   "execution_count": 23,
   "metadata": {},
   "outputs": [
    {
     "name": "stdout",
     "output_type": "stream",
     "text": [
      "Random Forest -1691.4190882494902\n",
      "Linear regression -3200.541913581766\n",
      "Lasso Regression -3398.3323370061107\n",
      "Ridge Regression -3671.488619032157\n",
      "Decision Tree -5820.650402634384\n"
     ]
    }
   ],
   "source": [
    "scores = sorted(scores.items(), key=lambda score: score[1], reverse=True)\n",
    "\n",
    "for i in range(len(scores)):\n",
    "    print(scores[i][0], scores[i][1])"
   ]
  },
  {
   "cell_type": "code",
   "execution_count": 24,
   "metadata": {
    "collapsed": true
   },
   "outputs": [],
   "source": [
    "scores_mae = scores # mean_absolute_error"
   ]
  },
  {
   "cell_type": "code",
   "execution_count": 36,
   "metadata": {},
   "outputs": [
    {
     "data": {
      "text/plain": [
       "[('Random Forest', 0.9853800204067557),\n",
       " ('Lasso Regression', 0.9618057068797972),\n",
       " ('Linear regression', 0.960900766691325),\n",
       " ('Ridge Regression', 0.9578555736030119),\n",
       " ('Decision Tree', 0.9052664981584767)]"
      ]
     },
     "execution_count": 36,
     "metadata": {},
     "output_type": "execute_result"
    }
   ],
   "source": [
    "scores_r2"
   ]
  },
  {
   "cell_type": "code",
   "execution_count": 25,
   "metadata": {
    "scrolled": true
   },
   "outputs": [
    {
     "data": {
      "text/html": [
       "<div>\n",
       "<style scoped>\n",
       "    .dataframe tbody tr th:only-of-type {\n",
       "        vertical-align: middle;\n",
       "    }\n",
       "\n",
       "    .dataframe tbody tr th {\n",
       "        vertical-align: top;\n",
       "    }\n",
       "\n",
       "    .dataframe thead th {\n",
       "        text-align: right;\n",
       "    }\n",
       "</style>\n",
       "<table border=\"1\" class=\"dataframe\">\n",
       "  <thead>\n",
       "    <tr style=\"text-align: right;\">\n",
       "      <th></th>\n",
       "      <th>A</th>\n",
       "      <th>B</th>\n",
       "      <th>C</th>\n",
       "      <th>D</th>\n",
       "    </tr>\n",
       "  </thead>\n",
       "  <tbody>\n",
       "    <tr>\n",
       "      <th>row_1</th>\n",
       "      <td>3</td>\n",
       "      <td>2</td>\n",
       "      <td>1</td>\n",
       "      <td>0</td>\n",
       "    </tr>\n",
       "    <tr>\n",
       "      <th>row_2</th>\n",
       "      <td>a</td>\n",
       "      <td>b</td>\n",
       "      <td>c</td>\n",
       "      <td>d</td>\n",
       "    </tr>\n",
       "  </tbody>\n",
       "</table>\n",
       "</div>"
      ],
      "text/plain": [
       "       A  B  C  D\n",
       "row_1  3  2  1  0\n",
       "row_2  a  b  c  d"
      ]
     },
     "execution_count": 25,
     "metadata": {},
     "output_type": "execute_result"
    }
   ],
   "source": [
    "data = {'row_1': [3, 2, 1, 0], 'row_2': ['a', 'b', 'c', 'd']}\n",
    "pd.DataFrame.from_dict(data, orient='index', columns=['A', 'B', 'C', 'D'])"
   ]
  },
  {
   "cell_type": "code",
   "execution_count": 26,
   "metadata": {
    "scrolled": false
   },
   "outputs": [
    {
     "data": {
      "text/html": [
       "<div>\n",
       "<style scoped>\n",
       "    .dataframe tbody tr th:only-of-type {\n",
       "        vertical-align: middle;\n",
       "    }\n",
       "\n",
       "    .dataframe tbody tr th {\n",
       "        vertical-align: top;\n",
       "    }\n",
       "\n",
       "    .dataframe thead th {\n",
       "        text-align: right;\n",
       "    }\n",
       "</style>\n",
       "<table border=\"1\" class=\"dataframe\">\n",
       "  <thead>\n",
       "    <tr style=\"text-align: right;\">\n",
       "      <th></th>\n",
       "      <th>row_1</th>\n",
       "      <th>row_2</th>\n",
       "    </tr>\n",
       "    <tr>\n",
       "      <th>idx</th>\n",
       "      <th></th>\n",
       "      <th></th>\n",
       "    </tr>\n",
       "  </thead>\n",
       "  <tbody>\n",
       "    <tr>\n",
       "      <th>a</th>\n",
       "      <td>3</td>\n",
       "      <td>a</td>\n",
       "    </tr>\n",
       "    <tr>\n",
       "      <th>b</th>\n",
       "      <td>2</td>\n",
       "      <td>b</td>\n",
       "    </tr>\n",
       "    <tr>\n",
       "      <th>c</th>\n",
       "      <td>1</td>\n",
       "      <td>c</td>\n",
       "    </tr>\n",
       "    <tr>\n",
       "      <th>d</th>\n",
       "      <td>0</td>\n",
       "      <td>d</td>\n",
       "    </tr>\n",
       "  </tbody>\n",
       "</table>\n",
       "</div>"
      ],
      "text/plain": [
       "     row_1 row_2\n",
       "idx             \n",
       "a        3     a\n",
       "b        2     b\n",
       "c        1     c\n",
       "d        0     d"
      ]
     },
     "execution_count": 26,
     "metadata": {},
     "output_type": "execute_result"
    }
   ],
   "source": [
    "data = {'row_1': [3, 2, 1, 0], 'row_2': ['a', 'b', 'c', 'd'], 'idx': ['a','b','c','d']}\n",
    "pd.DataFrame.from_dict(data).set_index('idx')"
   ]
  },
  {
   "cell_type": "code",
   "execution_count": 30,
   "metadata": {},
   "outputs": [
    {
     "data": {
      "text/plain": [
       "[('Random Forest', -1691.4190882494902),\n",
       " ('Linear regression', -3200.541913581766),\n",
       " ('Lasso Regression', -3398.3323370061107),\n",
       " ('Ridge Regression', -3671.488619032157),\n",
       " ('Decision Tree', -5820.650402634384)]"
      ]
     },
     "execution_count": 30,
     "metadata": {},
     "output_type": "execute_result"
    }
   ],
   "source": [
    "scores_mae"
   ]
  },
  {
   "cell_type": "code",
   "execution_count": 32,
   "metadata": {},
   "outputs": [
    {
     "data": {
      "text/html": [
       "<div>\n",
       "<style scoped>\n",
       "    .dataframe tbody tr th:only-of-type {\n",
       "        vertical-align: middle;\n",
       "    }\n",
       "\n",
       "    .dataframe tbody tr th {\n",
       "        vertical-align: top;\n",
       "    }\n",
       "\n",
       "    .dataframe thead th {\n",
       "        text-align: right;\n",
       "    }\n",
       "</style>\n",
       "<table border=\"1\" class=\"dataframe\">\n",
       "  <thead>\n",
       "    <tr style=\"text-align: right;\">\n",
       "      <th></th>\n",
       "      <th>0</th>\n",
       "      <th>1</th>\n",
       "    </tr>\n",
       "  </thead>\n",
       "  <tbody>\n",
       "    <tr>\n",
       "      <th>0</th>\n",
       "      <td>Random Forest</td>\n",
       "      <td>-1691.419088</td>\n",
       "    </tr>\n",
       "    <tr>\n",
       "      <th>1</th>\n",
       "      <td>Linear regression</td>\n",
       "      <td>-3200.541914</td>\n",
       "    </tr>\n",
       "    <tr>\n",
       "      <th>2</th>\n",
       "      <td>Lasso Regression</td>\n",
       "      <td>-3398.332337</td>\n",
       "    </tr>\n",
       "    <tr>\n",
       "      <th>3</th>\n",
       "      <td>Ridge Regression</td>\n",
       "      <td>-3671.488619</td>\n",
       "    </tr>\n",
       "    <tr>\n",
       "      <th>4</th>\n",
       "      <td>Decision Tree</td>\n",
       "      <td>-5820.650403</td>\n",
       "    </tr>\n",
       "  </tbody>\n",
       "</table>\n",
       "</div>"
      ],
      "text/plain": [
       "                   0            1\n",
       "0      Random Forest -1691.419088\n",
       "1  Linear regression -3200.541914\n",
       "2   Lasso Regression -3398.332337\n",
       "3   Ridge Regression -3671.488619\n",
       "4      Decision Tree -5820.650403"
      ]
     },
     "execution_count": 32,
     "metadata": {},
     "output_type": "execute_result"
    }
   ],
   "source": [
    "pd.DataFrame.from_dict(scores_mae)"
   ]
  },
  {
   "cell_type": "code",
   "execution_count": null,
   "metadata": {
    "collapsed": true
   },
   "outputs": [],
   "source": [
    "pd.DataFrame.from_dict(scores_mae, orient='index', columns=['mae'])"
   ]
  },
  {
   "cell_type": "markdown",
   "metadata": {},
   "source": [
    "### Summary of Scores"
   ]
  },
  {
   "cell_type": "code",
   "execution_count": 41,
   "metadata": {},
   "outputs": [
    {
     "data": {
      "text/html": [
       "<div>\n",
       "<style scoped>\n",
       "    .dataframe tbody tr th:only-of-type {\n",
       "        vertical-align: middle;\n",
       "    }\n",
       "\n",
       "    .dataframe tbody tr th {\n",
       "        vertical-align: top;\n",
       "    }\n",
       "\n",
       "    .dataframe thead th {\n",
       "        text-align: right;\n",
       "    }\n",
       "</style>\n",
       "<table border=\"1\" class=\"dataframe\">\n",
       "  <thead>\n",
       "    <tr style=\"text-align: right;\">\n",
       "      <th></th>\n",
       "      <th>Models</th>\n",
       "      <th>r2</th>\n",
       "    </tr>\n",
       "  </thead>\n",
       "  <tbody>\n",
       "    <tr>\n",
       "      <th>0</th>\n",
       "      <td>Random Forest</td>\n",
       "      <td>0.985380</td>\n",
       "    </tr>\n",
       "    <tr>\n",
       "      <th>1</th>\n",
       "      <td>Lasso Regression</td>\n",
       "      <td>0.961806</td>\n",
       "    </tr>\n",
       "    <tr>\n",
       "      <th>2</th>\n",
       "      <td>Linear regression</td>\n",
       "      <td>0.960901</td>\n",
       "    </tr>\n",
       "    <tr>\n",
       "      <th>3</th>\n",
       "      <td>Ridge Regression</td>\n",
       "      <td>0.957856</td>\n",
       "    </tr>\n",
       "    <tr>\n",
       "      <th>4</th>\n",
       "      <td>Decision Tree</td>\n",
       "      <td>0.905266</td>\n",
       "    </tr>\n",
       "  </tbody>\n",
       "</table>\n",
       "</div>"
      ],
      "text/plain": [
       "              Models        r2\n",
       "0      Random Forest  0.985380\n",
       "1   Lasso Regression  0.961806\n",
       "2  Linear regression  0.960901\n",
       "3   Ridge Regression  0.957856\n",
       "4      Decision Tree  0.905266"
      ]
     },
     "execution_count": 41,
     "metadata": {},
     "output_type": "execute_result"
    }
   ],
   "source": [
    "r2_df = pd.DataFrame(scores_r2)\n",
    "r2_df.columns = ['Models', 'r2']\n",
    "r2_df"
   ]
  },
  {
   "cell_type": "code",
   "execution_count": 43,
   "metadata": {
    "scrolled": true
   },
   "outputs": [
    {
     "data": {
      "text/html": [
       "<div>\n",
       "<style scoped>\n",
       "    .dataframe tbody tr th:only-of-type {\n",
       "        vertical-align: middle;\n",
       "    }\n",
       "\n",
       "    .dataframe tbody tr th {\n",
       "        vertical-align: top;\n",
       "    }\n",
       "\n",
       "    .dataframe thead th {\n",
       "        text-align: right;\n",
       "    }\n",
       "</style>\n",
       "<table border=\"1\" class=\"dataframe\">\n",
       "  <thead>\n",
       "    <tr style=\"text-align: right;\">\n",
       "      <th></th>\n",
       "      <th>Models</th>\n",
       "      <th>negative mean absolute error</th>\n",
       "    </tr>\n",
       "  </thead>\n",
       "  <tbody>\n",
       "    <tr>\n",
       "      <th>0</th>\n",
       "      <td>Random Forest</td>\n",
       "      <td>-1691.419088</td>\n",
       "    </tr>\n",
       "    <tr>\n",
       "      <th>1</th>\n",
       "      <td>Linear regression</td>\n",
       "      <td>-3200.541914</td>\n",
       "    </tr>\n",
       "    <tr>\n",
       "      <th>2</th>\n",
       "      <td>Lasso Regression</td>\n",
       "      <td>-3398.332337</td>\n",
       "    </tr>\n",
       "    <tr>\n",
       "      <th>3</th>\n",
       "      <td>Ridge Regression</td>\n",
       "      <td>-3671.488619</td>\n",
       "    </tr>\n",
       "    <tr>\n",
       "      <th>4</th>\n",
       "      <td>Decision Tree</td>\n",
       "      <td>-5820.650403</td>\n",
       "    </tr>\n",
       "  </tbody>\n",
       "</table>\n",
       "</div>"
      ],
      "text/plain": [
       "              Models  negative mean absolute error\n",
       "0      Random Forest                  -1691.419088\n",
       "1  Linear regression                  -3200.541914\n",
       "2   Lasso Regression                  -3398.332337\n",
       "3   Ridge Regression                  -3671.488619\n",
       "4      Decision Tree                  -5820.650403"
      ]
     },
     "execution_count": 43,
     "metadata": {},
     "output_type": "execute_result"
    }
   ],
   "source": [
    "mae_df = pd.DataFrame(scores_mae)\n",
    "mae_df.columns = ['Models', 'negative mean absolute error']\n",
    "mae_df"
   ]
  },
  {
   "cell_type": "code",
   "execution_count": 64,
   "metadata": {},
   "outputs": [
    {
     "data": {
      "text/html": [
       "<div>\n",
       "<style scoped>\n",
       "    .dataframe tbody tr th:only-of-type {\n",
       "        vertical-align: middle;\n",
       "    }\n",
       "\n",
       "    .dataframe tbody tr th {\n",
       "        vertical-align: top;\n",
       "    }\n",
       "\n",
       "    .dataframe thead th {\n",
       "        text-align: right;\n",
       "    }\n",
       "</style>\n",
       "<table border=\"1\" class=\"dataframe\">\n",
       "  <thead>\n",
       "    <tr style=\"text-align: right;\">\n",
       "      <th></th>\n",
       "      <th>Models</th>\n",
       "      <th>r2</th>\n",
       "      <th>negative mean absolute error</th>\n",
       "    </tr>\n",
       "  </thead>\n",
       "  <tbody>\n",
       "    <tr>\n",
       "      <th>0</th>\n",
       "      <td>Random Forest</td>\n",
       "      <td>0.985</td>\n",
       "      <td>-1691</td>\n",
       "    </tr>\n",
       "    <tr>\n",
       "      <th>1</th>\n",
       "      <td>Lasso Regression</td>\n",
       "      <td>0.962</td>\n",
       "      <td>-3398</td>\n",
       "    </tr>\n",
       "    <tr>\n",
       "      <th>2</th>\n",
       "      <td>Linear regression</td>\n",
       "      <td>0.961</td>\n",
       "      <td>-3200</td>\n",
       "    </tr>\n",
       "    <tr>\n",
       "      <th>3</th>\n",
       "      <td>Ridge Regression</td>\n",
       "      <td>0.958</td>\n",
       "      <td>-3671</td>\n",
       "    </tr>\n",
       "    <tr>\n",
       "      <th>4</th>\n",
       "      <td>Decision Tree</td>\n",
       "      <td>0.905</td>\n",
       "      <td>-5820</td>\n",
       "    </tr>\n",
       "  </tbody>\n",
       "</table>\n",
       "</div>"
      ],
      "text/plain": [
       "              Models     r2  negative mean absolute error\n",
       "0      Random Forest  0.985                         -1691\n",
       "1   Lasso Regression  0.962                         -3398\n",
       "2  Linear regression  0.961                         -3200\n",
       "3   Ridge Regression  0.958                         -3671\n",
       "4      Decision Tree  0.905                         -5820"
      ]
     },
     "execution_count": 64,
     "metadata": {},
     "output_type": "execute_result"
    }
   ],
   "source": [
    "score_summary = r2_df.merge(mae_df, how='left', on='Models')\n",
    "score_summary['r2'] = score_summary['r2'].apply(lambda x: np.round(x, 3))\n",
    "score_summary['negative mean absolute error'] = score_summary['negative mean absolute error'].apply(lambda x: int(x))\n",
    "score_summary"
   ]
  },
  {
   "cell_type": "code",
   "execution_count": 65,
   "metadata": {},
   "outputs": [],
   "source": [
    "score_summary.to_csv('score_summary.csv', index=False)"
   ]
  },
  {
   "cell_type": "markdown",
   "metadata": {},
   "source": [
    "Most of the models used give excellent goodness of fit that their r2 scores are mostly above 0.96. This indicate these models are of good choice.\n",
    "Random Forest gives the best performance with r2 being very close to 0.99. Decision Tree has the poorest performance with a r2_score of 0.908.\n",
    "The reason that Random Forest is about 0.02 higher in r2_score than linear approach is because there are a lot of categorical features in the dataset that are more meaningful in decision making instead of numeric significance.\n",
    "The mean absolute error from sklearn.metrics was also used to examine model performance. The scores are listed in the table above. It can be seen Decision Trees still tops the perforce. Scoring for Linear Regression is, however, exceedingly low. This tell us selection of metrics has a great influence on ranking the performance of algorithms.\n",
    "Feature Importance\n",
    "The feature importance results are shown in the table below. The bar graph shows top 20 features. \n"
   ]
  },
  {
   "attachments": {
    "image.png": {
     "image/png": "[encoded data removed]"
    }
   },
   "cell_type": "markdown",
   "metadata": {},
   "source": [
    "The HP2 (torque spec) has the highest importance, which is at least 4 times higher than the rest. The 2nd highest is Displacement, which is at least 2 times higher than the rest. These top 2 features are all specs related to car engines. The engine is the heart of a car that is the most dominating part for the major performance of car for example the car’s lifetime, speed, driving smoothness, horsepower, fuel efficiency, etc. So, their influence on car price should be greater than other features.\n",
    "\n",
    "Basic_Miles and Driverain_Years are in the warranty category and are surprisingly in the top ranking. The domain knowledge is required to explain it.\n",
    "\n",
    "Size_avg, Volume, Width, Length, and Height are specs for car’s dimensions. Their feature importance is somewhat close to each other and ranges from 0.011 to 0.016. This again proves the Decision Tree is an intelligent ensemble learning method.\n",
    "\n",
    "HP1 is the horse power. Its feature importance is 0.01 that is 52 times lower than that of torque spec (HP2). Careful examination of two series of the data reveal HP1/HP2 ratio has a wide range from 0.5 to 10.8, in stead of being a constant. This is probably because the car manufacturers are not adopting the same engine speed to obtain horsepower and torque specs. The following figure helps to understand that the horsepower follows a nearly linear relationship with engine speed, however, the torque doesn’t. \n",
    "\n",
    "![image.png](attachment:image.png)\n",
    "courtesy: https://www.caranddriver.com/news/a15347872/horsepower-vs-torque-whats-the-difference/\n",
    "\n",
    "Weight ranks 14th. Miles per gallon MPG_City ranks 16th. It is common knowledge that a heavier car consumes proportionally higher amount of gasoline per mile. This model precisely reveals the close relationship between the two specs. \n",
    "\n",
    "Some car models like Model_Lamborghini Aventador, Model_Maserati Quattroporte, and Model_Bentley Continental GT are in top 50 important features and are more important than technical specs. For example, the feature importance of Model_Lamborghini Aventador is greater than that of number of passenger doors. This is probably because these are luxury cars that have a lot of weight on price tag.\n"
   ]
  },
  {
   "cell_type": "code",
   "execution_count": 49,
   "metadata": {
    "collapsed": true
   },
   "outputs": [],
   "source": [
    "# HP1 and HP2 has very different feature importance.\n",
    "horse_ratio = X['HP1'] / X['HP2']\n"
   ]
  },
  {
   "cell_type": "code",
   "execution_count": 50,
   "metadata": {},
   "outputs": [
    {
     "name": "stdout",
     "output_type": "stream",
     "text": [
      "0.4669811320754717 10.806451612903226\n"
     ]
    }
   ],
   "source": [
    "print(min(horse_ratio.unique()), max(horse_ratio.unique()))"
   ]
  },
  {
   "cell_type": "markdown",
   "metadata": {
    "collapsed": true
   },
   "source": [
    "## Feature Importance"
   ]
  },
  {
   "cell_type": "code",
   "execution_count": 51,
   "metadata": {
    "collapsed": true
   },
   "outputs": [],
   "source": [
    "fi = rf.feature_importances_\n",
    "importance = pd.DataFrame(fi, index=X.columns, columns=['importance'])\n",
    "importance = importance.reset_index()\n",
    "importance = importance.rename(columns={'index': 'feature'})\n",
    "importance_20 = importance.sort_values(['importance'], ascending=False).head(20)"
   ]
  },
  {
   "cell_type": "code",
   "execution_count": 52,
   "metadata": {},
   "outputs": [
    {
     "data": {
      "image/png": "[encoded data removed]",
      "text/plain": [
       "<Figure size 1440x1080 with 1 Axes>"
      ]
     },
     "metadata": {},
     "output_type": "display_data"
    }
   ],
   "source": [
    "# top_features = np.array(feature_scores[:20])\n",
    "\n",
    "f, axes = plt.subplots(figsize=(20,15))\n",
    "ax = sns.barplot(x=importance_20['importance'],\n",
    "                 y=importance_20['feature'],\n",
    "                 palette = \"Blues_r\")\n",
    "ax.set(title=\"Top Feature Importance\", xlabel=\"Mutual Information Score\", \\\n",
    "       ylabel=\"Feature\")\n",
    "plt.show()"
   ]
  },
  {
   "cell_type": "markdown",
   "metadata": {},
   "source": [
    "Horsepower, displacement, drivetrain years and basic miles are the most important features."
   ]
  },
  {
   "cell_type": "code",
   "execution_count": 53,
   "metadata": {
    "scrolled": true
   },
   "outputs": [
    {
     "data": {
      "text/html": [
       "<div>\n",
       "<style scoped>\n",
       "    .dataframe tbody tr th:only-of-type {\n",
       "        vertical-align: middle;\n",
       "    }\n",
       "\n",
       "    .dataframe tbody tr th {\n",
       "        vertical-align: top;\n",
       "    }\n",
       "\n",
       "    .dataframe thead th {\n",
       "        text-align: right;\n",
       "    }\n",
       "</style>\n",
       "<table border=\"1\" class=\"dataframe\">\n",
       "  <thead>\n",
       "    <tr style=\"text-align: right;\">\n",
       "      <th></th>\n",
       "      <th>feature</th>\n",
       "      <th>importance</th>\n",
       "    </tr>\n",
       "  </thead>\n",
       "  <tbody>\n",
       "    <tr>\n",
       "      <th>28</th>\n",
       "      <td>HP2</td>\n",
       "      <td>0.547464</td>\n",
       "    </tr>\n",
       "    <tr>\n",
       "      <th>29</th>\n",
       "      <td>Displacement</td>\n",
       "      <td>0.129641</td>\n",
       "    </tr>\n",
       "    <tr>\n",
       "      <th>3</th>\n",
       "      <td>Basic_Miles</td>\n",
       "      <td>0.065283</td>\n",
       "    </tr>\n",
       "    <tr>\n",
       "      <th>6</th>\n",
       "      <td>Drivetrain_Years</td>\n",
       "      <td>0.063193</td>\n",
       "    </tr>\n",
       "    <tr>\n",
       "      <th>9</th>\n",
       "      <td>Max_Alt_Cp</td>\n",
       "      <td>0.017410</td>\n",
       "    </tr>\n",
       "    <tr>\n",
       "      <th>...</th>\n",
       "      <td>...</td>\n",
       "      <td>...</td>\n",
       "    </tr>\n",
       "    <tr>\n",
       "      <th>968</th>\n",
       "      <td>Susp_Rear_Double Wishbone Pushrod</td>\n",
       "      <td>0.000163</td>\n",
       "    </tr>\n",
       "    <tr>\n",
       "      <th>585</th>\n",
       "      <td>Body_Stype_Sport Utility</td>\n",
       "      <td>0.000161</td>\n",
       "    </tr>\n",
       "    <tr>\n",
       "      <th>640</th>\n",
       "      <td>Airbag_SHR_Yes</td>\n",
       "      <td>0.000161</td>\n",
       "    </tr>\n",
       "    <tr>\n",
       "      <th>1153</th>\n",
       "      <td>Susp_Rear2_Double Wishbone Pushrod</td>\n",
       "      <td>0.000159</td>\n",
       "    </tr>\n",
       "    <tr>\n",
       "      <th>85</th>\n",
       "      <td>Model_BMW 6-Series</td>\n",
       "      <td>0.000155</td>\n",
       "    </tr>\n",
       "  </tbody>\n",
       "</table>\n",
       "<p>80 rows × 2 columns</p>\n",
       "</div>"
      ],
      "text/plain": [
       "                                 feature  importance\n",
       "28                                   HP2    0.547464\n",
       "29                          Displacement    0.129641\n",
       "3                            Basic_Miles    0.065283\n",
       "6                       Drivetrain_Years    0.063193\n",
       "9                             Max_Alt_Cp    0.017410\n",
       "...                                  ...         ...\n",
       "968    Susp_Rear_Double Wishbone Pushrod    0.000163\n",
       "585             Body_Stype_Sport Utility    0.000161\n",
       "640                       Airbag_SHR_Yes    0.000161\n",
       "1153  Susp_Rear2_Double Wishbone Pushrod    0.000159\n",
       "85                    Model_BMW 6-Series    0.000155\n",
       "\n",
       "[80 rows x 2 columns]"
      ]
     },
     "execution_count": 53,
     "metadata": {},
     "output_type": "execute_result"
    }
   ],
   "source": [
    "importance.sort_values('importance', ascending=False)[:80]"
   ]
  },
  {
   "cell_type": "code",
   "execution_count": 54,
   "metadata": {
    "scrolled": true
   },
   "outputs": [
    {
     "name": "stdout",
     "output_type": "stream",
     "text": [
      "                                         feature  importance\n",
      "0                                            HP2    0.547464\n",
      "1                                   Displacement    0.129641\n",
      "2                                    Basic_Miles    0.065283\n",
      "3                               Drivetrain_Years    0.063193\n",
      "4                                     Max_Alt_Cp    0.017410\n",
      "5                                         Height    0.014532\n",
      "6                                            HP1    0.014451\n",
      "7                               Drivetrain_Miles    0.012801\n",
      "8                                        MPG_avg    0.011555\n",
      "9                                         Length    0.009513\n",
      "10                                 Fuel_Tank_Cpt    0.008129\n",
      "11                                      MPG_City    0.007610\n",
      "12                                        Weight    0.007247\n",
      "13                                      Size_avg    0.006474\n",
      "14                                         Width    0.006137\n",
      "15                            Engine_Type_Gas V8    0.004640\n",
      "16                                  Battery_Amps    0.004041\n",
      "17                                   Trailer_cpt    0.003731\n",
      "18                                        Volume    0.003676\n",
      "19                             Road_Assist_Miles    0.003568\n",
      "20                                          Year    0.003165\n",
      "21                                 Max_Alt_Watts    0.003163\n",
      "22                             Road_Assist_Years    0.002968\n",
      "23                                    Num_safety    0.002404\n",
      "24                               Parking_Aid_Yes    0.002384\n",
      "25                                Parking_Aid_No    0.002133\n",
      "26                                    Basic_Year    0.002105\n",
      "27                                        Psg_Cp    0.001987\n",
      "28                                   Trans_Speed    0.001866\n",
      "29                                   Maint_Miles    0.001756\n",
      "30                                  Fog_Lamps_No    0.001571\n",
      "31                             Model_Porsche 911    0.001401\n",
      "32                                 Fog_Lamps_Yes    0.001390\n",
      "33                               Corrosion_Years    0.001276\n",
      "34                              Backup_Camera_No    0.001089\n",
      "35                             Backup_Camera_Yes    0.001079\n",
      "36                   Model_Maserati Quattroporte    0.001047\n",
      "37                                       MPG_Hwy    0.001033\n",
      "38                   Susp_Front2_Double Wishbone    0.001009\n",
      "39                                Susp_Rear_Leaf    0.000889\n",
      "40                                     Psg_Doors    0.000859\n",
      "41                                    Maint_Year    0.000837\n",
      "42                         Front_Wheel_Mat_Steel    0.000744\n",
      "43              Engine_Type_Regular Unleaded V-8    0.000721\n",
      "44  Engine_Type_Twin Turbo Premium Unleaded V-12    0.000707\n",
      "45                  Model_Bentley Continental GT    0.000673\n",
      "46                               Model_Acura NSX    0.000656\n",
      "47                          Rear_Wheel_Mat_Steel    0.000643\n",
      "48                    Drivetrain_All Wheel Drive    0.000600\n",
      "49                    Susp_Front_Double Wishbone    0.000598\n"
     ]
    }
   ],
   "source": [
    "imp = importance.sort_values('importance', ascending=False).reset_index(drop=True)\n",
    "\n",
    "print(imp.iloc[:50, :])"
   ]
  },
  {
   "cell_type": "markdown",
   "metadata": {},
   "source": [
    "It was found that linear regression sometimes gave vary large negative scores. Using cross validation method, below is an example that shows the predication is very far from the test set."
   ]
  },
  {
   "cell_type": "markdown",
   "metadata": {},
   "source": [
    "This problem is most likely caused by the random split that certain cars that are in the test set but not in the train set. In order to solve this problem, Year was used as an integer. Set aside all the cars of one single year as test set, all the rest years’ cars are used an train set. Shown below are the results from picking 5 years. R2 scores are also recorded. Therefore, by using choosing test set based on year, the problem with imbalanced dataset can be solved."
   ]
  },
  {
   "cell_type": "code",
   "execution_count": null,
   "metadata": {
    "collapsed": true
   },
   "outputs": [],
   "source": [
    "X_train, X_test, y_train, y_test = train_test_split(X, y, random_state=42)\n",
    "\n",
    "\n",
    "K = 5\n",
    "splits = KFold(K)\n",
    "all_splits = []\n",
    "models = []\n",
    "train_preds = []\n",
    "test_preds = []\n",
    "for split in splits.split(X_train):\n",
    "    all_splits = all_splits + [split] # stores the split indices for each split in a list\n",
    "    fold_train = split[0]\n",
    "    fold_test = split[1]\n",
    "    lr = LinearRegression()\n",
    "    models = models + [lr.fit(X_train.iloc[fold_train, :], y[fold_train])] # stores the individual models in a list\n",
    "    train_preds = train_preds + [lr.predict(X_train.iloc[fold_train, :])] # stores the train predictions for each split in a list\n",
    "    test_preds = test_preds + [lr.predict(X_train.iloc[fold_test])] # stores the test predictions for each split in a list\n",
    "\n",
    "fig, ax = plt.subplots()\n",
    "for i in range(len(test_preds)):    \n",
    "    ax.scatter(y_train.iloc[all_splits[i][1]], test_preds[i], label = 'fold ' + str(i))\n",
    "ax.legend()\n",
    "plt.show()"
   ]
  },
  {
   "cell_type": "markdown",
   "metadata": {},
   "source": [
    "## Improvement of Linear Regression Using Year as Integer\n",
    "Year as Integer: Its Influence on Model Performance\n",
    "Since the car prices usually rise each year, it is reasonable to use this variable as integer. \n"
   ]
  },
  {
   "cell_type": "code",
   "execution_count": 60,
   "metadata": {},
   "outputs": [
    {
     "data": {
      "text/plain": [
       "[1991.0, 1998.0, 2005.0, 2012.0]"
      ]
     },
     "execution_count": 60,
     "metadata": {},
     "output_type": "execute_result"
    }
   ],
   "source": [
    "years = sorted(X['Year'].unique())[::7]\n",
    "years"
   ]
  },
  {
   "cell_type": "code",
   "execution_count": 58,
   "metadata": {
    "scrolled": false
   },
   "outputs": [
    {
     "data": {
      "image/png": "[encoded data removed]",
      "text/plain": [
       "<Figure size 432x288 with 1 Axes>"
      ]
     },
     "metadata": {},
     "output_type": "display_data"
    },
    {
     "data": {
      "image/png": "[encoded data removed]",
      "text/plain": [
       "<Figure size 432x288 with 1 Axes>"
      ]
     },
     "metadata": {},
     "output_type": "display_data"
    },
    {
     "data": {
      "image/png": "[encoded data removed]",
      "text/plain": [
       "<Figure size 432x288 with 1 Axes>"
      ]
     },
     "metadata": {},
     "output_type": "display_data"
    },
    {
     "data": {
      "image/png": "[encoded data removed]",
      "text/plain": [
       "<Figure size 432x288 with 1 Axes>"
      ]
     },
     "metadata": {},
     "output_type": "display_data"
    },
    {
     "data": {
      "image/png": "[encoded data removed]",
      "text/plain": [
       "<Figure size 432x288 with 1 Axes>"
      ]
     },
     "metadata": {},
     "output_type": "display_data"
    }
   ],
   "source": [
    "for year in years:\n",
    "    \n",
    "    # prepare for tweaking train_test_split\n",
    "    train = temp[temp['Year']!=year]\n",
    "    X = train.drop('MSRP', axis=1)\n",
    "    y = train['MSRP']\n",
    "\n",
    "    ## Prepare data for machine learning\n",
    "    X_train, X_test, y_train, y_test = train_test_split(X, y, test_size=1e-5, random_state=42)\n",
    "\n",
    "    # discard X_test and y_test from train_test_split and use\n",
    "    test = temp[temp['Year']==year]\n",
    "    X_test = test.drop('MSRP', axis=1)\n",
    "    y_test = test['MSRP']\n",
    "\n",
    "    # Create the regressor: reg_all\n",
    "    lr = LinearRegression()\n",
    "\n",
    "    lr.fit(X_train, y_train)\n",
    "\n",
    "    predicted_test = lr.predict(X_test)\n",
    "    test_score = r2_score(y_test, predicted_test)\n",
    "\n",
    "    xy = y_test + predicted_test\n",
    "    \n",
    "    fig, ax = plt.subplots()\n",
    "    ax.scatter(y_test, predicted_test)\n",
    "    title = 'Year:' + str(int(year)) +'  r2:'+ str(np.round(test_score, 4))\n",
    "    plt.title(title)\n",
    "    ax.set_xlabel('test set, $')\n",
    "    ax.set_ylabel('predicted, $')\n",
    "    figfile = 'Year'+ str(int(year))\n",
    "    plt.savefig(figfile)\n",
    "    plt.show()"
   ]
  },
  {
   "cell_type": "markdown",
   "metadata": {
    "collapsed": true
   },
   "source": [
    "However, models performance remains somewhat similar to using year as category. Random Forest ranks 1st position that scores much higher than other models. Random Forest actually performs better when using year as categorical data type. "
   ]
  }
 ],
 "metadata": {
  "kernelspec": {
   "display_name": "Python 3",
   "language": "python",
   "name": "python3"
  },
  "language_info": {
   "codemirror_mode": {
    "name": "ipython",
    "version": 3
   },
   "file_extension": ".py",
   "mimetype": "text/x-python",
   "name": "python",
   "nbconvert_exporter": "python",
   "pygments_lexer": "ipython3",
   "version": "3.6.3"
  }
 },
 "nbformat": 4,
 "nbformat_minor": 2
}
