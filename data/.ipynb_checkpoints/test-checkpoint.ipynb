{
 "cells": [
  {
   "cell_type": "markdown",
   "metadata": {},
   "source": [
    "test"
   ]
  },
  {
   "cell_type": "code",
   "execution_count": null,
   "metadata": {
    "collapsed": true
   },
   "outputs": [],
   "source": [
    "from sklearn import LinearRegression"
   ]
  },
  {
   "cell_type": "code",
   "execution_count": null,
   "metadata": {
    "collapsed": true
   },
   "outputs": [],
   "source": [
    "# two sample mean difference\n",
    "diff_mean = df_100.mean() - df_1000.mean()\n",
    "\n",
    "# two sample mean comparison statistic calculation\n",
    "def two_sample_mean(data1, data2):\n",
    "    n1 = len(data1)\n",
    "    n2 = len(data2)\n",
    "    mu1 = data1.mean()\n",
    "    mu2 = data2.mean()\n",
    "    var1 = np.var(data1)\n",
    "    var2 = np.var(data2)\n",
    "    std_diff = np.sqrt(var1/n1 + var2/n2)\n",
    "    z = abs((diff_mean) / std_diff)\n",
    "    p_value = stats.norm.cdf(-z)\n",
    "    moe = 1.96 * std_diff # 95% confidence\n",
    "    ci = [diff_mean - moe,  diff_mean + moe]\n",
    "    return z, p_value, moe, ci\n",
    "\n",
    "z, p_value, moe, ci = two_sample_mean(df_100, df_1000)\n",
    "print('z_score:', z)\n",
    "print('p_value:', p_value)\n",
    "print('margin of error at 95% confidence:', moe)\n",
    "print('95% confidence interval:', ci)"
   ]
  }
 ],
 "metadata": {
  "kernelspec": {
   "display_name": "Python 3",
   "language": "python",
   "name": "python3"
  },
  "language_info": {
   "codemirror_mode": {
    "name": "ipython",
    "version": 3
   },
   "file_extension": ".py",
   "mimetype": "text/x-python",
   "name": "python",
   "nbconvert_exporter": "python",
   "pygments_lexer": "ipython3",
   "version": "3.6.3"
  }
 },
 "nbformat": 4,
 "nbformat_minor": 2
}
